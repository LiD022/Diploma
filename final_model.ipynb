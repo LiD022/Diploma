{
 "cells": [
  {
   "cell_type": "code",
   "execution_count": 1,
   "metadata": {},
   "outputs": [],
   "source": [
    "from ultralytics import YOLO\n",
    "import cv2\n",
    "import supervision as sv\n",
    "import numpy as np\n",
    "import torch\n",
    "import math\n",
    "import plotly.io as pio\n",
    "from PIL import Image\n",
    "from segment_anything import SamAutomaticMaskGenerator, SamPredictor, sam_model_registry\n",
    "from skimage.metrics import structural_similarity as SSIM\n",
    "import torchvision.transforms as transforms\n",
    "import lpips\n",
    "from statistics import mean\n",
    "from ignite.metrics import FID\n",
    "from torchvision.transforms import functional as F\n",
    "import pandas as pd\n",
    "import plotly.graph_objects as go\n",
    "from plotly.subplots import make_subplots\n",
    "import warnings\n",
    "import random\n",
    "warnings.filterwarnings(\"ignore\", category=DeprecationWarning)"
   ]
  },
  {
   "cell_type": "code",
   "execution_count": 2,
   "metadata": {},
   "outputs": [],
   "source": [
    "device = torch.device(\"cuda:0\" if torch.cuda.is_available() else \"cpu\")"
   ]
  },
  {
   "cell_type": "code",
   "execution_count": 3,
   "metadata": {},
   "outputs": [],
   "source": [
    "model = YOLO('/home/nikita/Desktop/diploma/Diploma/models/yolov8n-face.pt')  # load a pretrained YOLOv8n detection model\n",
    "#model.train(data='coco128.yaml', epochs=3)  # train the model\n",
    "#model('https://ultralytics.com/images/bus.jpg')  # predict on an image"
   ]
  },
  {
   "cell_type": "code",
   "execution_count": 4,
   "metadata": {},
   "outputs": [],
   "source": [
    "sam = sam_model_registry[\"vit_l\"](checkpoint=\"/home/nikita/Desktop/diploma/Diploma/models/sam_vit_l_0b3195.pth\").to(device=device)\n",
    "#predictor = SamPredictor(sam)\n",
    "mask_generator = SamAutomaticMaskGenerator(sam)\n",
    "mask_annotator = sv.MaskAnnotator()"
   ]
  },
  {
   "cell_type": "code",
   "execution_count": 13,
   "metadata": {},
   "outputs": [],
   "source": [
    "image = Image.open('/home/nikita/Desktop/diploma/norm/sample/s3_mask.jpg')"
   ]
  },
  {
   "cell_type": "code",
   "execution_count": 14,
   "metadata": {},
   "outputs": [
    {
     "name": "stderr",
     "output_type": "stream",
     "text": [
      "WARNING ⚠️ 'hide_conf' is deprecated and will be removed in 'ultralytics 8.2' in the future. Please use 'show_conf' instead.\n",
      "WARNING ⚠️ 'hide_labels' is deprecated and will be removed in 'ultralytics 8.2' in the future. Please use 'show_labels' instead.\n",
      "\n",
      "0: 1280x1280 1 face, 10.1ms\n",
      "Speed: 10.9ms preprocess, 10.1ms inference, 1.3ms postprocess per image at shape (1, 3, 1280, 1280)\n"
     ]
    }
   ],
   "source": [
    "model.task='detect'\n",
    "results = model.predict(image, imgsz=image.size,\n",
    "                        save=False,\n",
    "                        device=device,\n",
    "                        hide_conf=True, hide_labels=True, conf=0.25, line_width=1)"
   ]
  },
  {
   "cell_type": "code",
   "execution_count": 15,
   "metadata": {},
   "outputs": [],
   "source": [
    "arr_of_boxes=[]\n",
    "boxes = results[0].boxes\n",
    "n=boxes.shape[0]\n",
    "\n",
    "\n",
    "for i in range(n):\n",
    "    #     # вот тут надо понять как все же картинку центрировать\n",
    "    # arr[0] *= 0.95  # сдвиг влево\n",
    "    # arr[2] *= 0.95\n",
    "    arr=boxes.xyxy[i].cpu().numpy()\n",
    "    \n",
    "    if arr[2]-arr[0] > arr[3]-arr[1]:\n",
    "        arr[3]=math.ceil(arr[1]+(arr[2]-arr[0]))\n",
    "    else:\n",
    "        arr[2]=math.ceil(arr[0]+(arr[3]-arr[1]))\n",
    "\n",
    "    # arr[:2] *= 0.9\n",
    "    # arr[-2:] *= 1.1\n",
    "    \n",
    "    arr[0]-=(arr[2]-arr[0])*0.3\n",
    "    # arr[2]+=(arr[2]-arr[0])*0.1\n",
    "    arr[1]-=(arr[3]-arr[1])*0.15\n",
    "    arr[3]+=(arr[3]-arr[1])*0.15\n",
    "\n",
    "    arr_of_boxes.append(arr)"
   ]
  },
  {
   "cell_type": "code",
   "execution_count": 16,
   "metadata": {},
   "outputs": [
    {
     "data": {
      "text/plain": [
       "1"
      ]
     },
     "execution_count": 16,
     "metadata": {},
     "output_type": "execute_result"
    }
   ],
   "source": [
    "arr_of_box_images=[]\n",
    "for i in range(n):\n",
    "    im=image.crop(arr_of_boxes[i])\n",
    "    x=min(im.size)\n",
    "    cropped_image = cv2.cvtColor(np.array(im.resize((x, x))), cv2.COLOR_BGR2RGB)\n",
    "    arr_of_box_images.append(cropped_image)\n",
    "    # cropped_image.save(f'/home/nikita/Desktop/diploma/inference/sample/sample_{i}.png')\n",
    "\n",
    "len(arr_of_box_images)"
   ]
  },
  {
   "cell_type": "code",
   "execution_count": null,
   "metadata": {},
   "outputs": [],
   "source": [
    "for i in range(n):\n",
    "    image_bgr = arr_of_box_images[i]\n",
    "    sam_result = mask_generator.generate(image_bgr)\n",
    "    #detections = sv.Detections.from_sam(sam_result=sam_result)\n",
    "    #annotated_image = mask_annotator.annotate(scene=image_bgr.copy(), detections=detections)\n",
    "    masks = [mask['segmentation'] for mask in sorted(sam_result, key=lambda x: x['area'], reverse=True)]\n",
    "    sv.plot_images_grid(\n",
    "    images=masks[:7],\n",
    "    grid_size=(1, 7),\n",
    "    size=(16, 16)\n",
    "    )\n",
    "    print('Выберите часть изображения, которую хотите исправить:')\n",
    "    j=int(input())\n",
    "    _, binary_mask = cv2.threshold(np.uint8(masks[j-1])*255, 127, 255, cv2.THRESH_BINARY)\n",
    "\n",
    "    cv2.imwrite(f'/home/nikita/Desktop/diploma/inference/image/sample_{i}.png', image_bgr)\n",
    "    cv2.imwrite(f'/home/nikita/Desktop/diploma/inference/mask/sample_{i}.png', binary_mask)\n",
    "    "
   ]
  },
  {
   "attachments": {},
   "cell_type": "markdown",
   "metadata": {},
   "source": [
    "Далее необходимо запустить python file bat_sample.py для получения итоговых реконструкций"
   ]
  },
  {
   "attachments": {},
   "cell_type": "markdown",
   "metadata": {},
   "source": [
    "Считаем метрики"
   ]
  },
  {
   "cell_type": "code",
   "execution_count": 3,
   "metadata": {},
   "outputs": [
    {
     "name": "stdout",
     "output_type": "stream",
     "text": [
      "Setting up [LPIPS] perceptual loss: trunk [alex], v[0.1], spatial [off]\n",
      "Loading model from: /home/nikita/miniconda3/envs/dev/lib/python3.10/site-packages/lpips/weights/v0.1/alex.pth\n"
     ]
    }
   ],
   "source": [
    "lpips_metric = lpips.LPIPS(net='alex')\n",
    "baseline_minimax_metrics = [] # [PSNR_max, SSIM_max, LPIPS_min]\n",
    "baseline_mean_metrics = [] # [PSNR_mean, SSIM_mean, LPIPS_mean]\n",
    "\n",
    "\n",
    "for i in range(100):\n",
    "    psnr_arr = [] #[sample_1, sample_2, sample_3, sample_4]\n",
    "    ssim_arr = [] #[sample_1, sample_2, sample_3, sample_4]\n",
    "    lpips_arr = []  #[sample_1, sample_2, sample_3, sample_4]\n",
    "    img1=cv2.imread(f'/home/nikita/Desktop/diploma/inference/image/{i}.png')\n",
    "    img1 = cv2.resize(img1, (256, 256))\n",
    "    img1_ten = transforms.ToTensor()(img1)\n",
    "    \n",
    "    for j in range(4):\n",
    "        img2=cv2.imread(f'/home/nikita/Desktop/diploma/inference/base_res/{i}_{j}.png')\n",
    "        img2_ten = transforms.ToTensor()(img2)\n",
    "        # print(\"PSNR:\", cv2.PSNR(img1, img2))\n",
    "        psnr_arr.append(cv2.PSNR(img1, img2))\n",
    "        # print(\"SSIM:\", metrics.structural_similarity(img1, img2, multichannel=True, channel_axis=2))\n",
    "        ssim_arr.append(SSIM(img1, img2, multichannel=True, channel_axis=2))\n",
    "        # print(\"LPIPS:\", lpips_metric(img1_ten, img2_ten).item())\n",
    "        lpips_arr.append(lpips_metric(img1_ten, img2_ten).item())\n",
    "\n",
    "    baseline_mean_metrics.append([sum(psnr_arr) / len(psnr_arr), sum(ssim_arr) / len(ssim_arr), sum(lpips_arr) / len(lpips_arr)])\n",
    "    baseline_minimax_metrics.append([max(psnr_arr),max(ssim_arr), min(lpips_arr)])             \n"
   ]
  },
  {
   "cell_type": "code",
   "execution_count": 2,
   "metadata": {},
   "outputs": [
    {
     "name": "stdout",
     "output_type": "stream",
     "text": [
      "Setting up [LPIPS] perceptual loss: trunk [alex], v[0.1], spatial [off]\n"
     ]
    },
    {
     "name": "stderr",
     "output_type": "stream",
     "text": [
      "/home/nikita/.local/lib/python3.10/site-packages/torchvision/models/_utils.py:208: UserWarning: The parameter 'pretrained' is deprecated since 0.13 and may be removed in the future, please use 'weights' instead.\n",
      "  warnings.warn(\n",
      "/home/nikita/.local/lib/python3.10/site-packages/torchvision/models/_utils.py:223: UserWarning: Arguments other than a weight enum or `None` for 'weights' are deprecated since 0.13 and may be removed in the future. The current behavior is equivalent to passing `weights=AlexNet_Weights.IMAGENET1K_V1`. You can also use `weights=AlexNet_Weights.DEFAULT` to get the most up-to-date weights.\n",
      "  warnings.warn(msg)\n"
     ]
    },
    {
     "name": "stdout",
     "output_type": "stream",
     "text": [
      "Loading model from: /home/nikita/miniconda3/envs/dev/lib/python3.10/site-packages/lpips/weights/v0.1/alex.pth\n"
     ]
    }
   ],
   "source": [
    "lpips_metric = lpips.LPIPS(net='alex')\n",
    "trained_minimax_metrics = [] # [PSNR_max, SSIM_max, LPIPS_min, FID_score]\n",
    "trained_mean_metrics = [] # [PSNR_mean, SSIM_mean, LPIPS_mean, FID_score]\n",
    "\n",
    "\n",
    "for i in range(100):\n",
    "    psnr_arr = [] #[sample_1, sample_2, sample_3, sample_4]\n",
    "    ssim_arr = [] #[sample_1, sample_2, sample_3, sample_4]\n",
    "    lpips_arr = []  #[sample_1, sample_2, sample_3, sample_4]\n",
    "    img1=cv2.imread(f'/home/nikita/Desktop/diploma/inference/image/{i}.png')\n",
    "    img1 = cv2.resize(img1, (256, 256))\n",
    "    img1_ten = transforms.ToTensor()(img1)\n",
    "    \n",
    "    for j in range(4):\n",
    "        img2=cv2.imread(f'/home/nikita/Desktop/diploma/inference/midle_res/{i}_{j}.png')\n",
    "        img2_ten = transforms.ToTensor()(img2)\n",
    "        # print(\"PSNR:\", cv2.PSNR(img1, img2))\n",
    "        psnr_arr.append(cv2.PSNR(img1, img2))\n",
    "        # print(\"SSIM:\", metrics.structural_similarity(img1, img2, multichannel=True, channel_axis=2))\n",
    "        ssim_arr.append(SSIM(img1, img2, multichannel=True, channel_axis=2))\n",
    "        # print(\"LPIPS:\", lpips_metric(img1_ten, img2_ten).item())\n",
    "        lpips_arr.append(lpips_metric(img1_ten, img2_ten).item())\n",
    "\n",
    "    trained_mean_metrics.append([sum(psnr_arr) / len(psnr_arr), sum(ssim_arr) / len(ssim_arr), sum(lpips_arr) / len(lpips_arr)])\n",
    "    trained_minimax_metrics.append([max(psnr_arr),max(ssim_arr), min(lpips_arr)])             \n"
   ]
  },
  {
   "cell_type": "code",
   "execution_count": 23,
   "metadata": {},
   "outputs": [
    {
     "name": "stdout",
     "output_type": "stream",
     "text": [
      "Setting up [LPIPS] perceptual loss: trunk [alex], v[0.1], spatial [off]\n",
      "Loading model from: /home/nikita/miniconda3/envs/dev/lib/python3.10/site-packages/lpips/weights/v0.1/alex.pth\n"
     ]
    }
   ],
   "source": [
    "lpips_metric = lpips.LPIPS(net='alex')\n",
    "trained_minimax_metrics = [] # [PSNR_max, SSIM_max, LPIPS_min, FID_score]\n",
    "trained_mean_metrics = [] # [PSNR_mean, SSIM_mean, LPIPS_mean, FID_score]\n",
    "\n",
    "\n",
    "for i in range(100):\n",
    "    psnr_arr = [] #[sample_1, sample_2, sample_3, sample_4]\n",
    "    ssim_arr = [] #[sample_1, sample_2, sample_3, sample_4]\n",
    "    lpips_arr = []  #[sample_1, sample_2, sample_3, sample_4]\n",
    "    img1=cv2.imread(f'/home/nikita/Desktop/diploma/inference/image/{i}.png')\n",
    "    img1 = cv2.resize(img1, (256, 256))\n",
    "    img1_ten = transforms.ToTensor()(img1)\n",
    "    \n",
    "    for j in range(4):\n",
    "        img2=cv2.imread(f'/home/nikita/Desktop/diploma/inference/final_res/{i}_{j}.png')\n",
    "        img2_ten = transforms.ToTensor()(img2)\n",
    "        # print(\"PSNR:\", cv2.PSNR(img1, img2))\n",
    "        psnr_arr.append(cv2.PSNR(img1, img2))\n",
    "        # print(\"SSIM:\", metrics.structural_similarity(img1, img2, multichannel=True, channel_axis=2))\n",
    "        ssim_arr.append(SSIM(img1, img2, multichannel=True, channel_axis=2))\n",
    "        # print(\"LPIPS:\", lpips_metric(img1_ten, img2_ten).item())\n",
    "        lpips_arr.append(lpips_metric(img1_ten, img2_ten).item())\n",
    "\n",
    "    trained_mean_metrics.append([sum(psnr_arr) / len(psnr_arr), sum(ssim_arr) / len(ssim_arr), sum(lpips_arr) / len(lpips_arr)])\n",
    "    trained_minimax_metrics.append([max(psnr_arr),max(ssim_arr), min(lpips_arr)])             \n"
   ]
  },
  {
   "cell_type": "code",
   "execution_count": 4,
   "metadata": {},
   "outputs": [],
   "source": [
    "df = pd.DataFrame({'PSNR baseline mean': pd.Series([round(x[0], 3) for x in baseline_mean_metrics]),\n",
    "                    'PSNR trained model mean': pd.Series([x[0] for x in trained_mean_metrics]),\n",
    "                    'PSNR baseline max': pd.Series([x[0] for x in baseline_minimax_metrics]),\n",
    "                    'PSNR trained model max': pd.Series([x[0] for x in trained_minimax_metrics]),\n",
    "                    'SSIM baseline mean': pd.Series([round(x[1], 3) for x in baseline_mean_metrics]),\n",
    "                    'SSIM trained model mean': pd.Series([x[1] for x in trained_mean_metrics]),\n",
    "                    'SSIM baseline max': pd.Series([x[1] for x in baseline_minimax_metrics]),\n",
    "                    'SSIM trained model max': pd.Series([x[1] for x in trained_minimax_metrics]),\n",
    "                    'LPIPS baseline mean': pd.Series([round(x[2], 3) for x in baseline_mean_metrics]),\n",
    "                    'LPIPS trained model mean': pd.Series([x[2] for x in trained_mean_metrics]),\n",
    "                    'LPIPS baseline max': pd.Series([x[2] for x in baseline_minimax_metrics]),\n",
    "                    'LPIPS trained model max': pd.Series([x[2] for x in trained_minimax_metrics])}).reset_index(drop=True).reset_index().rename(columns={'index': 'num'})"
   ]
  },
  {
   "cell_type": "code",
   "execution_count": 3,
   "metadata": {},
   "outputs": [
    {
     "data": {
      "application/vnd.plotly.v1+json": {
       "config": {
        "plotlyServerURL": "https://plot.ly"
       },
       "data": [
        {
         "marker": {
          "color": "orange"
         },
         "name": "BAT-Fill",
         "text": [
          "25.25",
          "26.26"
         ],
         "textposition": "auto",
         "type": "bar",
         "x": [
          "полное среднее",
          "наилучшее сгенерированное"
         ],
         "xaxis": "x",
         "y": [
          25.25368,
          26.258996758311618
         ],
         "yaxis": "y"
        },
        {
         "marker": {
          "color": "rgb(69,0,102)"
         },
         "name": "masked VAE-BAT-Fill",
         "text": [
          "26.46",
          "27.44"
         ],
         "textposition": "auto",
         "type": "bar",
         "x": [
          "полное среднее",
          "наилучшее сгенерированное"
         ],
         "xaxis": "x",
         "y": [
          26.457531014180702,
          27.440685478893307
         ],
         "yaxis": "y"
        }
       ],
       "layout": {
        "font": {
         "family": "Courier New, monospace",
         "size": 32
        },
        "legend": {
         "font": {
          "size": 32
         },
         "x": 0.75,
         "y": 1.5
        },
        "template": {
         "data": {
          "bar": [
           {
            "error_x": {
             "color": "#2a3f5f"
            },
            "error_y": {
             "color": "#2a3f5f"
            },
            "marker": {
             "line": {
              "color": "#E5ECF6",
              "width": 0.5
             },
             "pattern": {
              "fillmode": "overlay",
              "size": 10,
              "solidity": 0.2
             }
            },
            "type": "bar"
           }
          ],
          "barpolar": [
           {
            "marker": {
             "line": {
              "color": "#E5ECF6",
              "width": 0.5
             },
             "pattern": {
              "fillmode": "overlay",
              "size": 10,
              "solidity": 0.2
             }
            },
            "type": "barpolar"
           }
          ],
          "carpet": [
           {
            "aaxis": {
             "endlinecolor": "#2a3f5f",
             "gridcolor": "white",
             "linecolor": "white",
             "minorgridcolor": "white",
             "startlinecolor": "#2a3f5f"
            },
            "baxis": {
             "endlinecolor": "#2a3f5f",
             "gridcolor": "white",
             "linecolor": "white",
             "minorgridcolor": "white",
             "startlinecolor": "#2a3f5f"
            },
            "type": "carpet"
           }
          ],
          "choropleth": [
           {
            "colorbar": {
             "outlinewidth": 0,
             "ticks": ""
            },
            "type": "choropleth"
           }
          ],
          "contour": [
           {
            "colorbar": {
             "outlinewidth": 0,
             "ticks": ""
            },
            "colorscale": [
             [
              0,
              "#0d0887"
             ],
             [
              0.1111111111111111,
              "#46039f"
             ],
             [
              0.2222222222222222,
              "#7201a8"
             ],
             [
              0.3333333333333333,
              "#9c179e"
             ],
             [
              0.4444444444444444,
              "#bd3786"
             ],
             [
              0.5555555555555556,
              "#d8576b"
             ],
             [
              0.6666666666666666,
              "#ed7953"
             ],
             [
              0.7777777777777778,
              "#fb9f3a"
             ],
             [
              0.8888888888888888,
              "#fdca26"
             ],
             [
              1,
              "#f0f921"
             ]
            ],
            "type": "contour"
           }
          ],
          "contourcarpet": [
           {
            "colorbar": {
             "outlinewidth": 0,
             "ticks": ""
            },
            "type": "contourcarpet"
           }
          ],
          "heatmap": [
           {
            "colorbar": {
             "outlinewidth": 0,
             "ticks": ""
            },
            "colorscale": [
             [
              0,
              "#0d0887"
             ],
             [
              0.1111111111111111,
              "#46039f"
             ],
             [
              0.2222222222222222,
              "#7201a8"
             ],
             [
              0.3333333333333333,
              "#9c179e"
             ],
             [
              0.4444444444444444,
              "#bd3786"
             ],
             [
              0.5555555555555556,
              "#d8576b"
             ],
             [
              0.6666666666666666,
              "#ed7953"
             ],
             [
              0.7777777777777778,
              "#fb9f3a"
             ],
             [
              0.8888888888888888,
              "#fdca26"
             ],
             [
              1,
              "#f0f921"
             ]
            ],
            "type": "heatmap"
           }
          ],
          "heatmapgl": [
           {
            "colorbar": {
             "outlinewidth": 0,
             "ticks": ""
            },
            "colorscale": [
             [
              0,
              "#0d0887"
             ],
             [
              0.1111111111111111,
              "#46039f"
             ],
             [
              0.2222222222222222,
              "#7201a8"
             ],
             [
              0.3333333333333333,
              "#9c179e"
             ],
             [
              0.4444444444444444,
              "#bd3786"
             ],
             [
              0.5555555555555556,
              "#d8576b"
             ],
             [
              0.6666666666666666,
              "#ed7953"
             ],
             [
              0.7777777777777778,
              "#fb9f3a"
             ],
             [
              0.8888888888888888,
              "#fdca26"
             ],
             [
              1,
              "#f0f921"
             ]
            ],
            "type": "heatmapgl"
           }
          ],
          "histogram": [
           {
            "marker": {
             "pattern": {
              "fillmode": "overlay",
              "size": 10,
              "solidity": 0.2
             }
            },
            "type": "histogram"
           }
          ],
          "histogram2d": [
           {
            "colorbar": {
             "outlinewidth": 0,
             "ticks": ""
            },
            "colorscale": [
             [
              0,
              "#0d0887"
             ],
             [
              0.1111111111111111,
              "#46039f"
             ],
             [
              0.2222222222222222,
              "#7201a8"
             ],
             [
              0.3333333333333333,
              "#9c179e"
             ],
             [
              0.4444444444444444,
              "#bd3786"
             ],
             [
              0.5555555555555556,
              "#d8576b"
             ],
             [
              0.6666666666666666,
              "#ed7953"
             ],
             [
              0.7777777777777778,
              "#fb9f3a"
             ],
             [
              0.8888888888888888,
              "#fdca26"
             ],
             [
              1,
              "#f0f921"
             ]
            ],
            "type": "histogram2d"
           }
          ],
          "histogram2dcontour": [
           {
            "colorbar": {
             "outlinewidth": 0,
             "ticks": ""
            },
            "colorscale": [
             [
              0,
              "#0d0887"
             ],
             [
              0.1111111111111111,
              "#46039f"
             ],
             [
              0.2222222222222222,
              "#7201a8"
             ],
             [
              0.3333333333333333,
              "#9c179e"
             ],
             [
              0.4444444444444444,
              "#bd3786"
             ],
             [
              0.5555555555555556,
              "#d8576b"
             ],
             [
              0.6666666666666666,
              "#ed7953"
             ],
             [
              0.7777777777777778,
              "#fb9f3a"
             ],
             [
              0.8888888888888888,
              "#fdca26"
             ],
             [
              1,
              "#f0f921"
             ]
            ],
            "type": "histogram2dcontour"
           }
          ],
          "mesh3d": [
           {
            "colorbar": {
             "outlinewidth": 0,
             "ticks": ""
            },
            "type": "mesh3d"
           }
          ],
          "parcoords": [
           {
            "line": {
             "colorbar": {
              "outlinewidth": 0,
              "ticks": ""
             }
            },
            "type": "parcoords"
           }
          ],
          "pie": [
           {
            "automargin": true,
            "type": "pie"
           }
          ],
          "scatter": [
           {
            "fillpattern": {
             "fillmode": "overlay",
             "size": 10,
             "solidity": 0.2
            },
            "type": "scatter"
           }
          ],
          "scatter3d": [
           {
            "line": {
             "colorbar": {
              "outlinewidth": 0,
              "ticks": ""
             }
            },
            "marker": {
             "colorbar": {
              "outlinewidth": 0,
              "ticks": ""
             }
            },
            "type": "scatter3d"
           }
          ],
          "scattercarpet": [
           {
            "marker": {
             "colorbar": {
              "outlinewidth": 0,
              "ticks": ""
             }
            },
            "type": "scattercarpet"
           }
          ],
          "scattergeo": [
           {
            "marker": {
             "colorbar": {
              "outlinewidth": 0,
              "ticks": ""
             }
            },
            "type": "scattergeo"
           }
          ],
          "scattergl": [
           {
            "marker": {
             "colorbar": {
              "outlinewidth": 0,
              "ticks": ""
             }
            },
            "type": "scattergl"
           }
          ],
          "scattermapbox": [
           {
            "marker": {
             "colorbar": {
              "outlinewidth": 0,
              "ticks": ""
             }
            },
            "type": "scattermapbox"
           }
          ],
          "scatterpolar": [
           {
            "marker": {
             "colorbar": {
              "outlinewidth": 0,
              "ticks": ""
             }
            },
            "type": "scatterpolar"
           }
          ],
          "scatterpolargl": [
           {
            "marker": {
             "colorbar": {
              "outlinewidth": 0,
              "ticks": ""
             }
            },
            "type": "scatterpolargl"
           }
          ],
          "scatterternary": [
           {
            "marker": {
             "colorbar": {
              "outlinewidth": 0,
              "ticks": ""
             }
            },
            "type": "scatterternary"
           }
          ],
          "surface": [
           {
            "colorbar": {
             "outlinewidth": 0,
             "ticks": ""
            },
            "colorscale": [
             [
              0,
              "#0d0887"
             ],
             [
              0.1111111111111111,
              "#46039f"
             ],
             [
              0.2222222222222222,
              "#7201a8"
             ],
             [
              0.3333333333333333,
              "#9c179e"
             ],
             [
              0.4444444444444444,
              "#bd3786"
             ],
             [
              0.5555555555555556,
              "#d8576b"
             ],
             [
              0.6666666666666666,
              "#ed7953"
             ],
             [
              0.7777777777777778,
              "#fb9f3a"
             ],
             [
              0.8888888888888888,
              "#fdca26"
             ],
             [
              1,
              "#f0f921"
             ]
            ],
            "type": "surface"
           }
          ],
          "table": [
           {
            "cells": {
             "fill": {
              "color": "#EBF0F8"
             },
             "line": {
              "color": "white"
             }
            },
            "header": {
             "fill": {
              "color": "#C8D4E3"
             },
             "line": {
              "color": "white"
             }
            },
            "type": "table"
           }
          ]
         },
         "layout": {
          "annotationdefaults": {
           "arrowcolor": "#2a3f5f",
           "arrowhead": 0,
           "arrowwidth": 1
          },
          "autotypenumbers": "strict",
          "coloraxis": {
           "colorbar": {
            "outlinewidth": 0,
            "ticks": ""
           }
          },
          "colorscale": {
           "diverging": [
            [
             0,
             "#8e0152"
            ],
            [
             0.1,
             "#c51b7d"
            ],
            [
             0.2,
             "#de77ae"
            ],
            [
             0.3,
             "#f1b6da"
            ],
            [
             0.4,
             "#fde0ef"
            ],
            [
             0.5,
             "#f7f7f7"
            ],
            [
             0.6,
             "#e6f5d0"
            ],
            [
             0.7,
             "#b8e186"
            ],
            [
             0.8,
             "#7fbc41"
            ],
            [
             0.9,
             "#4d9221"
            ],
            [
             1,
             "#276419"
            ]
           ],
           "sequential": [
            [
             0,
             "#0d0887"
            ],
            [
             0.1111111111111111,
             "#46039f"
            ],
            [
             0.2222222222222222,
             "#7201a8"
            ],
            [
             0.3333333333333333,
             "#9c179e"
            ],
            [
             0.4444444444444444,
             "#bd3786"
            ],
            [
             0.5555555555555556,
             "#d8576b"
            ],
            [
             0.6666666666666666,
             "#ed7953"
            ],
            [
             0.7777777777777778,
             "#fb9f3a"
            ],
            [
             0.8888888888888888,
             "#fdca26"
            ],
            [
             1,
             "#f0f921"
            ]
           ],
           "sequentialminus": [
            [
             0,
             "#0d0887"
            ],
            [
             0.1111111111111111,
             "#46039f"
            ],
            [
             0.2222222222222222,
             "#7201a8"
            ],
            [
             0.3333333333333333,
             "#9c179e"
            ],
            [
             0.4444444444444444,
             "#bd3786"
            ],
            [
             0.5555555555555556,
             "#d8576b"
            ],
            [
             0.6666666666666666,
             "#ed7953"
            ],
            [
             0.7777777777777778,
             "#fb9f3a"
            ],
            [
             0.8888888888888888,
             "#fdca26"
            ],
            [
             1,
             "#f0f921"
            ]
           ]
          },
          "colorway": [
           "#636efa",
           "#EF553B",
           "#00cc96",
           "#ab63fa",
           "#FFA15A",
           "#19d3f3",
           "#FF6692",
           "#B6E880",
           "#FF97FF",
           "#FECB52"
          ],
          "font": {
           "color": "#2a3f5f"
          },
          "geo": {
           "bgcolor": "white",
           "lakecolor": "white",
           "landcolor": "#E5ECF6",
           "showlakes": true,
           "showland": true,
           "subunitcolor": "white"
          },
          "hoverlabel": {
           "align": "left"
          },
          "hovermode": "closest",
          "mapbox": {
           "style": "light"
          },
          "paper_bgcolor": "white",
          "plot_bgcolor": "#E5ECF6",
          "polar": {
           "angularaxis": {
            "gridcolor": "white",
            "linecolor": "white",
            "ticks": ""
           },
           "bgcolor": "#E5ECF6",
           "radialaxis": {
            "gridcolor": "white",
            "linecolor": "white",
            "ticks": ""
           }
          },
          "scene": {
           "xaxis": {
            "backgroundcolor": "#E5ECF6",
            "gridcolor": "white",
            "gridwidth": 2,
            "linecolor": "white",
            "showbackground": true,
            "ticks": "",
            "zerolinecolor": "white"
           },
           "yaxis": {
            "backgroundcolor": "#E5ECF6",
            "gridcolor": "white",
            "gridwidth": 2,
            "linecolor": "white",
            "showbackground": true,
            "ticks": "",
            "zerolinecolor": "white"
           },
           "zaxis": {
            "backgroundcolor": "#E5ECF6",
            "gridcolor": "white",
            "gridwidth": 2,
            "linecolor": "white",
            "showbackground": true,
            "ticks": "",
            "zerolinecolor": "white"
           }
          },
          "shapedefaults": {
           "line": {
            "color": "#2a3f5f"
           }
          },
          "ternary": {
           "aaxis": {
            "gridcolor": "white",
            "linecolor": "white",
            "ticks": ""
           },
           "baxis": {
            "gridcolor": "white",
            "linecolor": "white",
            "ticks": ""
           },
           "bgcolor": "#E5ECF6",
           "caxis": {
            "gridcolor": "white",
            "linecolor": "white",
            "ticks": ""
           }
          },
          "title": {
           "x": 0.05
          },
          "xaxis": {
           "automargin": true,
           "gridcolor": "white",
           "linecolor": "white",
           "ticks": "",
           "title": {
            "standoff": 15
           },
           "zerolinecolor": "white",
           "zerolinewidth": 2
          },
          "yaxis": {
           "automargin": true,
           "gridcolor": "white",
           "linecolor": "white",
           "ticks": "",
           "title": {
            "standoff": 15
           },
           "zerolinecolor": "white",
           "zerolinewidth": 2
          }
         }
        },
        "title": {
         "font": {
          "size": 64
         },
         "text": "PSNR",
         "x": 0.5,
         "xanchor": "center"
        },
        "xaxis": {
         "anchor": "y",
         "domain": [
          0,
          0.94
         ]
        },
        "yaxis": {
         "anchor": "x",
         "domain": [
          0,
          1
         ],
         "title": {
          "text": "Значение меры"
         },
         "type": "log"
        },
        "yaxis2": {
         "anchor": "x",
         "overlaying": "y",
         "side": "right",
         "title": {
          "text": "Значение меры"
         },
         "type": "log"
        }
       }
      }
     },
     "metadata": {},
     "output_type": "display_data"
    },
    {
     "name": "stdout",
     "output_type": "stream",
     "text": [
      "Среднеквадратичное отклонение для базовой модели 1.98 -для полного среднего,  2.2 -для максимального\n",
      "Среднеквадратичное отклонение для дообученной модели 2.16 -для полного среднего,  2.26 -для максимального\n",
      "Прирост качества модели: 4.8 % - для полного среднего,  4.5 % - для максимального\n"
     ]
    }
   ],
   "source": [
    "fig = make_subplots(specs=[[{\"secondary_y\": True}]])\n",
    "\n",
    "fig.add_trace(\n",
    "    go.Bar(\n",
    "        x=['полное среднее', 'наилучшее сгенерированное'],\n",
    "        y=[df['PSNR baseline mean'].mean(), df['PSNR baseline max'].mean()],\n",
    "        name='BAT-Fill',\n",
    "        text=[round(val, 2) for val in [df['PSNR baseline mean'].mean(), df['PSNR baseline max'].mean()]],\n",
    "        textposition='auto',\n",
    "        marker_color='orange'\n",
    "        ),\n",
    "    secondary_y=False\n",
    ")\n",
    "\n",
    "fig.add_trace(\n",
    "    go.Bar(\n",
    "        x=['полное среднее', 'наилучшее сгенерированное'],\n",
    "        y=[df['PSNR trained model mean'].mean(), df['PSNR trained model max'].mean()],\n",
    "        name='masked VAE-BAT-Fill',\n",
    "        text=[round(val, 2) for val in [df['PSNR trained model mean'].mean(), df['PSNR trained model max'].mean()]],\n",
    "        textposition='auto',\n",
    "        marker_color='rgb(69,0,102)'\n",
    "        ),\n",
    "    secondary_y=False\n",
    ")\n",
    "\n",
    "fig.update_layout(\n",
    "        title={\n",
    "            'text': \"PSNR\",\n",
    "            'x': 0.5,\n",
    "            'xanchor': 'center',\n",
    "            'font': {'size': 64}},\n",
    "        legend={\n",
    "            'x': 0.75,\n",
    "            'y': 1.5,\n",
    "            'font': {'size': 32}},\n",
    "        font=dict(\n",
    "            family=\"Courier New, monospace\",\n",
    "            size=32\n",
    "        )\n",
    "        )\n",
    "# fig.update_xaxes(title='Усреднение меры на 4 изображениях', showticklabels=False, tickfont=dict(size=32))\n",
    "fig.update_yaxes(title='Значение меры', type='log')\n",
    "fig.show()\n",
    "\n",
    "print('Среднеквадратичное отклонение для базовой модели', round(np.std(df['PSNR baseline mean']), 2),'-для полного среднего, ', round(np.std(df['PSNR baseline max']), 2), '-для максимального')\n",
    "print('Среднеквадратичное отклонение для дообученной модели', round(np.std(df['PSNR trained model mean']), 2),'-для полного среднего, ', round(np.std(df['PSNR trained model max']), 2), '-для максимального')\n",
    "print('Прирост качества модели:', round((df['PSNR trained model mean'].mean() - df['PSNR baseline mean'].mean())/df['PSNR baseline mean'].mean(), 3)*100,'% - для полного среднего, ' ,\n",
    "       round((df['PSNR trained model max'].mean() - df['PSNR baseline max'].mean())/df['PSNR baseline max'].mean(), 3)*100, '% - для максимального')"
   ]
  },
  {
   "cell_type": "code",
   "execution_count": 4,
   "metadata": {},
   "outputs": [
    {
     "data": {
      "application/vnd.plotly.v1+json": {
       "config": {
        "plotlyServerURL": "https://plot.ly"
       },
       "data": [
        {
         "marker": {
          "color": "orange"
         },
         "name": "BAT-Fill",
         "text": [
          "0.872",
          "0.88"
         ],
         "textposition": "auto",
         "type": "bar",
         "x": [
          "полное среднее",
          "наилучшее сгенерированное"
         ],
         "xaxis": "x",
         "y": [
          0.8718100000000001,
          0.8804908584348163
         ],
         "yaxis": "y"
        },
        {
         "marker": {
          "color": "rgb(69,0,102)"
         },
         "name": "masked VAE-BAT-Fill",
         "text": [
          "0.886",
          "0.895"
         ],
         "textposition": "auto",
         "type": "bar",
         "x": [
          "полное среднее",
          "наилучшее сгенерированное"
         ],
         "xaxis": "x",
         "y": [
          0.8862179134258862,
          0.8946463236233437
         ],
         "yaxis": "y"
        }
       ],
       "layout": {
        "font": {
         "family": "Courier New, monospace",
         "size": 32
        },
        "legend": {
         "font": {
          "size": 32
         },
         "x": 0.75,
         "y": 1.5
        },
        "template": {
         "data": {
          "bar": [
           {
            "error_x": {
             "color": "#2a3f5f"
            },
            "error_y": {
             "color": "#2a3f5f"
            },
            "marker": {
             "line": {
              "color": "#E5ECF6",
              "width": 0.5
             },
             "pattern": {
              "fillmode": "overlay",
              "size": 10,
              "solidity": 0.2
             }
            },
            "type": "bar"
           }
          ],
          "barpolar": [
           {
            "marker": {
             "line": {
              "color": "#E5ECF6",
              "width": 0.5
             },
             "pattern": {
              "fillmode": "overlay",
              "size": 10,
              "solidity": 0.2
             }
            },
            "type": "barpolar"
           }
          ],
          "carpet": [
           {
            "aaxis": {
             "endlinecolor": "#2a3f5f",
             "gridcolor": "white",
             "linecolor": "white",
             "minorgridcolor": "white",
             "startlinecolor": "#2a3f5f"
            },
            "baxis": {
             "endlinecolor": "#2a3f5f",
             "gridcolor": "white",
             "linecolor": "white",
             "minorgridcolor": "white",
             "startlinecolor": "#2a3f5f"
            },
            "type": "carpet"
           }
          ],
          "choropleth": [
           {
            "colorbar": {
             "outlinewidth": 0,
             "ticks": ""
            },
            "type": "choropleth"
           }
          ],
          "contour": [
           {
            "colorbar": {
             "outlinewidth": 0,
             "ticks": ""
            },
            "colorscale": [
             [
              0,
              "#0d0887"
             ],
             [
              0.1111111111111111,
              "#46039f"
             ],
             [
              0.2222222222222222,
              "#7201a8"
             ],
             [
              0.3333333333333333,
              "#9c179e"
             ],
             [
              0.4444444444444444,
              "#bd3786"
             ],
             [
              0.5555555555555556,
              "#d8576b"
             ],
             [
              0.6666666666666666,
              "#ed7953"
             ],
             [
              0.7777777777777778,
              "#fb9f3a"
             ],
             [
              0.8888888888888888,
              "#fdca26"
             ],
             [
              1,
              "#f0f921"
             ]
            ],
            "type": "contour"
           }
          ],
          "contourcarpet": [
           {
            "colorbar": {
             "outlinewidth": 0,
             "ticks": ""
            },
            "type": "contourcarpet"
           }
          ],
          "heatmap": [
           {
            "colorbar": {
             "outlinewidth": 0,
             "ticks": ""
            },
            "colorscale": [
             [
              0,
              "#0d0887"
             ],
             [
              0.1111111111111111,
              "#46039f"
             ],
             [
              0.2222222222222222,
              "#7201a8"
             ],
             [
              0.3333333333333333,
              "#9c179e"
             ],
             [
              0.4444444444444444,
              "#bd3786"
             ],
             [
              0.5555555555555556,
              "#d8576b"
             ],
             [
              0.6666666666666666,
              "#ed7953"
             ],
             [
              0.7777777777777778,
              "#fb9f3a"
             ],
             [
              0.8888888888888888,
              "#fdca26"
             ],
             [
              1,
              "#f0f921"
             ]
            ],
            "type": "heatmap"
           }
          ],
          "heatmapgl": [
           {
            "colorbar": {
             "outlinewidth": 0,
             "ticks": ""
            },
            "colorscale": [
             [
              0,
              "#0d0887"
             ],
             [
              0.1111111111111111,
              "#46039f"
             ],
             [
              0.2222222222222222,
              "#7201a8"
             ],
             [
              0.3333333333333333,
              "#9c179e"
             ],
             [
              0.4444444444444444,
              "#bd3786"
             ],
             [
              0.5555555555555556,
              "#d8576b"
             ],
             [
              0.6666666666666666,
              "#ed7953"
             ],
             [
              0.7777777777777778,
              "#fb9f3a"
             ],
             [
              0.8888888888888888,
              "#fdca26"
             ],
             [
              1,
              "#f0f921"
             ]
            ],
            "type": "heatmapgl"
           }
          ],
          "histogram": [
           {
            "marker": {
             "pattern": {
              "fillmode": "overlay",
              "size": 10,
              "solidity": 0.2
             }
            },
            "type": "histogram"
           }
          ],
          "histogram2d": [
           {
            "colorbar": {
             "outlinewidth": 0,
             "ticks": ""
            },
            "colorscale": [
             [
              0,
              "#0d0887"
             ],
             [
              0.1111111111111111,
              "#46039f"
             ],
             [
              0.2222222222222222,
              "#7201a8"
             ],
             [
              0.3333333333333333,
              "#9c179e"
             ],
             [
              0.4444444444444444,
              "#bd3786"
             ],
             [
              0.5555555555555556,
              "#d8576b"
             ],
             [
              0.6666666666666666,
              "#ed7953"
             ],
             [
              0.7777777777777778,
              "#fb9f3a"
             ],
             [
              0.8888888888888888,
              "#fdca26"
             ],
             [
              1,
              "#f0f921"
             ]
            ],
            "type": "histogram2d"
           }
          ],
          "histogram2dcontour": [
           {
            "colorbar": {
             "outlinewidth": 0,
             "ticks": ""
            },
            "colorscale": [
             [
              0,
              "#0d0887"
             ],
             [
              0.1111111111111111,
              "#46039f"
             ],
             [
              0.2222222222222222,
              "#7201a8"
             ],
             [
              0.3333333333333333,
              "#9c179e"
             ],
             [
              0.4444444444444444,
              "#bd3786"
             ],
             [
              0.5555555555555556,
              "#d8576b"
             ],
             [
              0.6666666666666666,
              "#ed7953"
             ],
             [
              0.7777777777777778,
              "#fb9f3a"
             ],
             [
              0.8888888888888888,
              "#fdca26"
             ],
             [
              1,
              "#f0f921"
             ]
            ],
            "type": "histogram2dcontour"
           }
          ],
          "mesh3d": [
           {
            "colorbar": {
             "outlinewidth": 0,
             "ticks": ""
            },
            "type": "mesh3d"
           }
          ],
          "parcoords": [
           {
            "line": {
             "colorbar": {
              "outlinewidth": 0,
              "ticks": ""
             }
            },
            "type": "parcoords"
           }
          ],
          "pie": [
           {
            "automargin": true,
            "type": "pie"
           }
          ],
          "scatter": [
           {
            "fillpattern": {
             "fillmode": "overlay",
             "size": 10,
             "solidity": 0.2
            },
            "type": "scatter"
           }
          ],
          "scatter3d": [
           {
            "line": {
             "colorbar": {
              "outlinewidth": 0,
              "ticks": ""
             }
            },
            "marker": {
             "colorbar": {
              "outlinewidth": 0,
              "ticks": ""
             }
            },
            "type": "scatter3d"
           }
          ],
          "scattercarpet": [
           {
            "marker": {
             "colorbar": {
              "outlinewidth": 0,
              "ticks": ""
             }
            },
            "type": "scattercarpet"
           }
          ],
          "scattergeo": [
           {
            "marker": {
             "colorbar": {
              "outlinewidth": 0,
              "ticks": ""
             }
            },
            "type": "scattergeo"
           }
          ],
          "scattergl": [
           {
            "marker": {
             "colorbar": {
              "outlinewidth": 0,
              "ticks": ""
             }
            },
            "type": "scattergl"
           }
          ],
          "scattermapbox": [
           {
            "marker": {
             "colorbar": {
              "outlinewidth": 0,
              "ticks": ""
             }
            },
            "type": "scattermapbox"
           }
          ],
          "scatterpolar": [
           {
            "marker": {
             "colorbar": {
              "outlinewidth": 0,
              "ticks": ""
             }
            },
            "type": "scatterpolar"
           }
          ],
          "scatterpolargl": [
           {
            "marker": {
             "colorbar": {
              "outlinewidth": 0,
              "ticks": ""
             }
            },
            "type": "scatterpolargl"
           }
          ],
          "scatterternary": [
           {
            "marker": {
             "colorbar": {
              "outlinewidth": 0,
              "ticks": ""
             }
            },
            "type": "scatterternary"
           }
          ],
          "surface": [
           {
            "colorbar": {
             "outlinewidth": 0,
             "ticks": ""
            },
            "colorscale": [
             [
              0,
              "#0d0887"
             ],
             [
              0.1111111111111111,
              "#46039f"
             ],
             [
              0.2222222222222222,
              "#7201a8"
             ],
             [
              0.3333333333333333,
              "#9c179e"
             ],
             [
              0.4444444444444444,
              "#bd3786"
             ],
             [
              0.5555555555555556,
              "#d8576b"
             ],
             [
              0.6666666666666666,
              "#ed7953"
             ],
             [
              0.7777777777777778,
              "#fb9f3a"
             ],
             [
              0.8888888888888888,
              "#fdca26"
             ],
             [
              1,
              "#f0f921"
             ]
            ],
            "type": "surface"
           }
          ],
          "table": [
           {
            "cells": {
             "fill": {
              "color": "#EBF0F8"
             },
             "line": {
              "color": "white"
             }
            },
            "header": {
             "fill": {
              "color": "#C8D4E3"
             },
             "line": {
              "color": "white"
             }
            },
            "type": "table"
           }
          ]
         },
         "layout": {
          "annotationdefaults": {
           "arrowcolor": "#2a3f5f",
           "arrowhead": 0,
           "arrowwidth": 1
          },
          "autotypenumbers": "strict",
          "coloraxis": {
           "colorbar": {
            "outlinewidth": 0,
            "ticks": ""
           }
          },
          "colorscale": {
           "diverging": [
            [
             0,
             "#8e0152"
            ],
            [
             0.1,
             "#c51b7d"
            ],
            [
             0.2,
             "#de77ae"
            ],
            [
             0.3,
             "#f1b6da"
            ],
            [
             0.4,
             "#fde0ef"
            ],
            [
             0.5,
             "#f7f7f7"
            ],
            [
             0.6,
             "#e6f5d0"
            ],
            [
             0.7,
             "#b8e186"
            ],
            [
             0.8,
             "#7fbc41"
            ],
            [
             0.9,
             "#4d9221"
            ],
            [
             1,
             "#276419"
            ]
           ],
           "sequential": [
            [
             0,
             "#0d0887"
            ],
            [
             0.1111111111111111,
             "#46039f"
            ],
            [
             0.2222222222222222,
             "#7201a8"
            ],
            [
             0.3333333333333333,
             "#9c179e"
            ],
            [
             0.4444444444444444,
             "#bd3786"
            ],
            [
             0.5555555555555556,
             "#d8576b"
            ],
            [
             0.6666666666666666,
             "#ed7953"
            ],
            [
             0.7777777777777778,
             "#fb9f3a"
            ],
            [
             0.8888888888888888,
             "#fdca26"
            ],
            [
             1,
             "#f0f921"
            ]
           ],
           "sequentialminus": [
            [
             0,
             "#0d0887"
            ],
            [
             0.1111111111111111,
             "#46039f"
            ],
            [
             0.2222222222222222,
             "#7201a8"
            ],
            [
             0.3333333333333333,
             "#9c179e"
            ],
            [
             0.4444444444444444,
             "#bd3786"
            ],
            [
             0.5555555555555556,
             "#d8576b"
            ],
            [
             0.6666666666666666,
             "#ed7953"
            ],
            [
             0.7777777777777778,
             "#fb9f3a"
            ],
            [
             0.8888888888888888,
             "#fdca26"
            ],
            [
             1,
             "#f0f921"
            ]
           ]
          },
          "colorway": [
           "#636efa",
           "#EF553B",
           "#00cc96",
           "#ab63fa",
           "#FFA15A",
           "#19d3f3",
           "#FF6692",
           "#B6E880",
           "#FF97FF",
           "#FECB52"
          ],
          "font": {
           "color": "#2a3f5f"
          },
          "geo": {
           "bgcolor": "white",
           "lakecolor": "white",
           "landcolor": "#E5ECF6",
           "showlakes": true,
           "showland": true,
           "subunitcolor": "white"
          },
          "hoverlabel": {
           "align": "left"
          },
          "hovermode": "closest",
          "mapbox": {
           "style": "light"
          },
          "paper_bgcolor": "white",
          "plot_bgcolor": "#E5ECF6",
          "polar": {
           "angularaxis": {
            "gridcolor": "white",
            "linecolor": "white",
            "ticks": ""
           },
           "bgcolor": "#E5ECF6",
           "radialaxis": {
            "gridcolor": "white",
            "linecolor": "white",
            "ticks": ""
           }
          },
          "scene": {
           "xaxis": {
            "backgroundcolor": "#E5ECF6",
            "gridcolor": "white",
            "gridwidth": 2,
            "linecolor": "white",
            "showbackground": true,
            "ticks": "",
            "zerolinecolor": "white"
           },
           "yaxis": {
            "backgroundcolor": "#E5ECF6",
            "gridcolor": "white",
            "gridwidth": 2,
            "linecolor": "white",
            "showbackground": true,
            "ticks": "",
            "zerolinecolor": "white"
           },
           "zaxis": {
            "backgroundcolor": "#E5ECF6",
            "gridcolor": "white",
            "gridwidth": 2,
            "linecolor": "white",
            "showbackground": true,
            "ticks": "",
            "zerolinecolor": "white"
           }
          },
          "shapedefaults": {
           "line": {
            "color": "#2a3f5f"
           }
          },
          "ternary": {
           "aaxis": {
            "gridcolor": "white",
            "linecolor": "white",
            "ticks": ""
           },
           "baxis": {
            "gridcolor": "white",
            "linecolor": "white",
            "ticks": ""
           },
           "bgcolor": "#E5ECF6",
           "caxis": {
            "gridcolor": "white",
            "linecolor": "white",
            "ticks": ""
           }
          },
          "title": {
           "x": 0.05
          },
          "xaxis": {
           "automargin": true,
           "gridcolor": "white",
           "linecolor": "white",
           "ticks": "",
           "title": {
            "standoff": 15
           },
           "zerolinecolor": "white",
           "zerolinewidth": 2
          },
          "yaxis": {
           "automargin": true,
           "gridcolor": "white",
           "linecolor": "white",
           "ticks": "",
           "title": {
            "standoff": 15
           },
           "zerolinecolor": "white",
           "zerolinewidth": 2
          }
         }
        },
        "title": {
         "font": {
          "size": 64
         },
         "text": "SSIM",
         "x": 0.5,
         "xanchor": "center"
        },
        "xaxis": {
         "anchor": "y",
         "domain": [
          0,
          0.94
         ]
        },
        "yaxis": {
         "anchor": "x",
         "domain": [
          0,
          1
         ],
         "title": {
          "text": "Значение меры"
         },
         "type": "log"
        },
        "yaxis2": {
         "anchor": "x",
         "overlaying": "y",
         "side": "right",
         "title": {
          "text": "Значение меры"
         },
         "type": "log"
        }
       }
      }
     },
     "metadata": {},
     "output_type": "display_data"
    },
    {
     "name": "stdout",
     "output_type": "stream",
     "text": [
      "Среднеквадратичное отклонение базовой модели 0.024  - для полного среднего,  0.025  - для наилучшего сгенерированного\n",
      "Среднеквадратичное отклонение дообученной модели 0.024 -для полного среднего,  0.024  - для наилучшего сгенерированного\n",
      "Прирост качества модели: 1.7000000000000002 $\\%$ - для полного среднего,  1.6 $\\%$ - для наилучшего сгенерированного\n"
     ]
    }
   ],
   "source": [
    "fig = make_subplots(specs=[[{\"secondary_y\": True}]])\n",
    "\n",
    "fig.add_trace(\n",
    "    go.Bar(\n",
    "        x=['полное среднее', 'наилучшее сгенерированное'],\n",
    "        y=[df['SSIM baseline mean'].mean(), df['SSIM baseline max'].mean()],\n",
    "        name='BAT-Fill',\n",
    "        text=[round(val, 3) for val in [df['SSIM baseline mean'].mean(), df['SSIM baseline max'].mean()]],\n",
    "        textposition='auto',\n",
    "        marker_color='orange'\n",
    "        ),\n",
    "    secondary_y=False\n",
    ")\n",
    "\n",
    "fig.add_trace(\n",
    "    go.Bar(\n",
    "        x=['полное среднее', 'наилучшее сгенерированное'],\n",
    "        y=[df['SSIM trained model mean'].mean(), df['SSIM trained model max'].mean()],\n",
    "        name='masked VAE-BAT-Fill',\n",
    "        text=[round(val, 3) for val in [df['SSIM trained model mean'].mean(), df['SSIM trained model max'].mean()]],\n",
    "        textposition='auto',\n",
    "        marker_color='rgb(69,0,102)'\n",
    "        ),\n",
    "    secondary_y=False\n",
    ")\n",
    "\n",
    "fig.update_layout(\n",
    "        title={\n",
    "            'text': \"SSIM\",\n",
    "            'x': 0.5,\n",
    "            'xanchor': 'center',\n",
    "            'font': {'size': 64}},\n",
    "        legend={\n",
    "            'x': 0.75,\n",
    "            'y': 1.5,\n",
    "            'font': {'size': 32}},\n",
    "        font=dict(\n",
    "            family=\"Courier New, monospace\",\n",
    "            size=32\n",
    "        )\n",
    "        )\n",
    "# fig.update_xaxes(title='Усреднение меры на 4 изображениях', showticklabels=False, tickfont=dict(size=32))\n",
    "fig.update_yaxes(title='Значение меры', type='log')\n",
    "fig.show()\n",
    "\n",
    "print('Среднеквадратичное отклонение базовой модели', round(np.std(df['SSIM baseline mean']), 3),' - для полного среднего, ', round(np.std(df['SSIM baseline max']), 3), ' - для наилучшего сгенерированного')\n",
    "print('Среднеквадратичное отклонение дообученной модели', round(np.std(df['SSIM trained model mean']), 3),'-для полного среднего, ', round(np.std(df['SSIM trained model max']), 3), ' - для наилучшего сгенерированного')\n",
    "print('Прирост качества модели:', round((df['SSIM trained model mean'].mean() - df['SSIM baseline mean'].mean())/df['SSIM baseline mean'].mean(), 3)*100,'$\\%$ - для полного среднего, ' ,\n",
    "       round((df['SSIM trained model max'].mean() - df['SSIM baseline max'].mean())/df['SSIM baseline max'].mean(), 3)*100, '$\\%$ - для наилучшего сгенерированного')"
   ]
  },
  {
   "cell_type": "code",
   "execution_count": 5,
   "metadata": {},
   "outputs": [
    {
     "data": {
      "application/vnd.plotly.v1+json": {
       "config": {
        "plotlyServerURL": "https://plot.ly"
       },
       "data": [
        {
         "marker": {
          "color": "orange"
         },
         "name": "BAT-Fill",
         "text": [
          "0.072",
          "0.065"
         ],
         "textposition": "auto",
         "type": "bar",
         "x": [
          "полное среднее",
          "наилучшее сгенерированное"
         ],
         "xaxis": "x",
         "y": [
          0.07196,
          0.06464331280440089
         ],
         "yaxis": "y"
        },
        {
         "marker": {
          "color": "rgb(69,0,102)"
         },
         "name": "masked VAE-BAT-Fill",
         "text": [
          "0.058",
          "0.053"
         ],
         "textposition": "auto",
         "type": "bar",
         "x": [
          "полное среднее",
          "наилучшее сгенерированное"
         ],
         "xaxis": "x",
         "y": [
          0.05774669936392451,
          0.05289381224662061
         ],
         "yaxis": "y"
        }
       ],
       "layout": {
        "font": {
         "family": "Courier New, monospace",
         "size": 32
        },
        "legend": {
         "font": {
          "size": 32
         },
         "x": 0.75,
         "y": 1.5
        },
        "template": {
         "data": {
          "bar": [
           {
            "error_x": {
             "color": "#2a3f5f"
            },
            "error_y": {
             "color": "#2a3f5f"
            },
            "marker": {
             "line": {
              "color": "#E5ECF6",
              "width": 0.5
             },
             "pattern": {
              "fillmode": "overlay",
              "size": 10,
              "solidity": 0.2
             }
            },
            "type": "bar"
           }
          ],
          "barpolar": [
           {
            "marker": {
             "line": {
              "color": "#E5ECF6",
              "width": 0.5
             },
             "pattern": {
              "fillmode": "overlay",
              "size": 10,
              "solidity": 0.2
             }
            },
            "type": "barpolar"
           }
          ],
          "carpet": [
           {
            "aaxis": {
             "endlinecolor": "#2a3f5f",
             "gridcolor": "white",
             "linecolor": "white",
             "minorgridcolor": "white",
             "startlinecolor": "#2a3f5f"
            },
            "baxis": {
             "endlinecolor": "#2a3f5f",
             "gridcolor": "white",
             "linecolor": "white",
             "minorgridcolor": "white",
             "startlinecolor": "#2a3f5f"
            },
            "type": "carpet"
           }
          ],
          "choropleth": [
           {
            "colorbar": {
             "outlinewidth": 0,
             "ticks": ""
            },
            "type": "choropleth"
           }
          ],
          "contour": [
           {
            "colorbar": {
             "outlinewidth": 0,
             "ticks": ""
            },
            "colorscale": [
             [
              0,
              "#0d0887"
             ],
             [
              0.1111111111111111,
              "#46039f"
             ],
             [
              0.2222222222222222,
              "#7201a8"
             ],
             [
              0.3333333333333333,
              "#9c179e"
             ],
             [
              0.4444444444444444,
              "#bd3786"
             ],
             [
              0.5555555555555556,
              "#d8576b"
             ],
             [
              0.6666666666666666,
              "#ed7953"
             ],
             [
              0.7777777777777778,
              "#fb9f3a"
             ],
             [
              0.8888888888888888,
              "#fdca26"
             ],
             [
              1,
              "#f0f921"
             ]
            ],
            "type": "contour"
           }
          ],
          "contourcarpet": [
           {
            "colorbar": {
             "outlinewidth": 0,
             "ticks": ""
            },
            "type": "contourcarpet"
           }
          ],
          "heatmap": [
           {
            "colorbar": {
             "outlinewidth": 0,
             "ticks": ""
            },
            "colorscale": [
             [
              0,
              "#0d0887"
             ],
             [
              0.1111111111111111,
              "#46039f"
             ],
             [
              0.2222222222222222,
              "#7201a8"
             ],
             [
              0.3333333333333333,
              "#9c179e"
             ],
             [
              0.4444444444444444,
              "#bd3786"
             ],
             [
              0.5555555555555556,
              "#d8576b"
             ],
             [
              0.6666666666666666,
              "#ed7953"
             ],
             [
              0.7777777777777778,
              "#fb9f3a"
             ],
             [
              0.8888888888888888,
              "#fdca26"
             ],
             [
              1,
              "#f0f921"
             ]
            ],
            "type": "heatmap"
           }
          ],
          "heatmapgl": [
           {
            "colorbar": {
             "outlinewidth": 0,
             "ticks": ""
            },
            "colorscale": [
             [
              0,
              "#0d0887"
             ],
             [
              0.1111111111111111,
              "#46039f"
             ],
             [
              0.2222222222222222,
              "#7201a8"
             ],
             [
              0.3333333333333333,
              "#9c179e"
             ],
             [
              0.4444444444444444,
              "#bd3786"
             ],
             [
              0.5555555555555556,
              "#d8576b"
             ],
             [
              0.6666666666666666,
              "#ed7953"
             ],
             [
              0.7777777777777778,
              "#fb9f3a"
             ],
             [
              0.8888888888888888,
              "#fdca26"
             ],
             [
              1,
              "#f0f921"
             ]
            ],
            "type": "heatmapgl"
           }
          ],
          "histogram": [
           {
            "marker": {
             "pattern": {
              "fillmode": "overlay",
              "size": 10,
              "solidity": 0.2
             }
            },
            "type": "histogram"
           }
          ],
          "histogram2d": [
           {
            "colorbar": {
             "outlinewidth": 0,
             "ticks": ""
            },
            "colorscale": [
             [
              0,
              "#0d0887"
             ],
             [
              0.1111111111111111,
              "#46039f"
             ],
             [
              0.2222222222222222,
              "#7201a8"
             ],
             [
              0.3333333333333333,
              "#9c179e"
             ],
             [
              0.4444444444444444,
              "#bd3786"
             ],
             [
              0.5555555555555556,
              "#d8576b"
             ],
             [
              0.6666666666666666,
              "#ed7953"
             ],
             [
              0.7777777777777778,
              "#fb9f3a"
             ],
             [
              0.8888888888888888,
              "#fdca26"
             ],
             [
              1,
              "#f0f921"
             ]
            ],
            "type": "histogram2d"
           }
          ],
          "histogram2dcontour": [
           {
            "colorbar": {
             "outlinewidth": 0,
             "ticks": ""
            },
            "colorscale": [
             [
              0,
              "#0d0887"
             ],
             [
              0.1111111111111111,
              "#46039f"
             ],
             [
              0.2222222222222222,
              "#7201a8"
             ],
             [
              0.3333333333333333,
              "#9c179e"
             ],
             [
              0.4444444444444444,
              "#bd3786"
             ],
             [
              0.5555555555555556,
              "#d8576b"
             ],
             [
              0.6666666666666666,
              "#ed7953"
             ],
             [
              0.7777777777777778,
              "#fb9f3a"
             ],
             [
              0.8888888888888888,
              "#fdca26"
             ],
             [
              1,
              "#f0f921"
             ]
            ],
            "type": "histogram2dcontour"
           }
          ],
          "mesh3d": [
           {
            "colorbar": {
             "outlinewidth": 0,
             "ticks": ""
            },
            "type": "mesh3d"
           }
          ],
          "parcoords": [
           {
            "line": {
             "colorbar": {
              "outlinewidth": 0,
              "ticks": ""
             }
            },
            "type": "parcoords"
           }
          ],
          "pie": [
           {
            "automargin": true,
            "type": "pie"
           }
          ],
          "scatter": [
           {
            "fillpattern": {
             "fillmode": "overlay",
             "size": 10,
             "solidity": 0.2
            },
            "type": "scatter"
           }
          ],
          "scatter3d": [
           {
            "line": {
             "colorbar": {
              "outlinewidth": 0,
              "ticks": ""
             }
            },
            "marker": {
             "colorbar": {
              "outlinewidth": 0,
              "ticks": ""
             }
            },
            "type": "scatter3d"
           }
          ],
          "scattercarpet": [
           {
            "marker": {
             "colorbar": {
              "outlinewidth": 0,
              "ticks": ""
             }
            },
            "type": "scattercarpet"
           }
          ],
          "scattergeo": [
           {
            "marker": {
             "colorbar": {
              "outlinewidth": 0,
              "ticks": ""
             }
            },
            "type": "scattergeo"
           }
          ],
          "scattergl": [
           {
            "marker": {
             "colorbar": {
              "outlinewidth": 0,
              "ticks": ""
             }
            },
            "type": "scattergl"
           }
          ],
          "scattermapbox": [
           {
            "marker": {
             "colorbar": {
              "outlinewidth": 0,
              "ticks": ""
             }
            },
            "type": "scattermapbox"
           }
          ],
          "scatterpolar": [
           {
            "marker": {
             "colorbar": {
              "outlinewidth": 0,
              "ticks": ""
             }
            },
            "type": "scatterpolar"
           }
          ],
          "scatterpolargl": [
           {
            "marker": {
             "colorbar": {
              "outlinewidth": 0,
              "ticks": ""
             }
            },
            "type": "scatterpolargl"
           }
          ],
          "scatterternary": [
           {
            "marker": {
             "colorbar": {
              "outlinewidth": 0,
              "ticks": ""
             }
            },
            "type": "scatterternary"
           }
          ],
          "surface": [
           {
            "colorbar": {
             "outlinewidth": 0,
             "ticks": ""
            },
            "colorscale": [
             [
              0,
              "#0d0887"
             ],
             [
              0.1111111111111111,
              "#46039f"
             ],
             [
              0.2222222222222222,
              "#7201a8"
             ],
             [
              0.3333333333333333,
              "#9c179e"
             ],
             [
              0.4444444444444444,
              "#bd3786"
             ],
             [
              0.5555555555555556,
              "#d8576b"
             ],
             [
              0.6666666666666666,
              "#ed7953"
             ],
             [
              0.7777777777777778,
              "#fb9f3a"
             ],
             [
              0.8888888888888888,
              "#fdca26"
             ],
             [
              1,
              "#f0f921"
             ]
            ],
            "type": "surface"
           }
          ],
          "table": [
           {
            "cells": {
             "fill": {
              "color": "#EBF0F8"
             },
             "line": {
              "color": "white"
             }
            },
            "header": {
             "fill": {
              "color": "#C8D4E3"
             },
             "line": {
              "color": "white"
             }
            },
            "type": "table"
           }
          ]
         },
         "layout": {
          "annotationdefaults": {
           "arrowcolor": "#2a3f5f",
           "arrowhead": 0,
           "arrowwidth": 1
          },
          "autotypenumbers": "strict",
          "coloraxis": {
           "colorbar": {
            "outlinewidth": 0,
            "ticks": ""
           }
          },
          "colorscale": {
           "diverging": [
            [
             0,
             "#8e0152"
            ],
            [
             0.1,
             "#c51b7d"
            ],
            [
             0.2,
             "#de77ae"
            ],
            [
             0.3,
             "#f1b6da"
            ],
            [
             0.4,
             "#fde0ef"
            ],
            [
             0.5,
             "#f7f7f7"
            ],
            [
             0.6,
             "#e6f5d0"
            ],
            [
             0.7,
             "#b8e186"
            ],
            [
             0.8,
             "#7fbc41"
            ],
            [
             0.9,
             "#4d9221"
            ],
            [
             1,
             "#276419"
            ]
           ],
           "sequential": [
            [
             0,
             "#0d0887"
            ],
            [
             0.1111111111111111,
             "#46039f"
            ],
            [
             0.2222222222222222,
             "#7201a8"
            ],
            [
             0.3333333333333333,
             "#9c179e"
            ],
            [
             0.4444444444444444,
             "#bd3786"
            ],
            [
             0.5555555555555556,
             "#d8576b"
            ],
            [
             0.6666666666666666,
             "#ed7953"
            ],
            [
             0.7777777777777778,
             "#fb9f3a"
            ],
            [
             0.8888888888888888,
             "#fdca26"
            ],
            [
             1,
             "#f0f921"
            ]
           ],
           "sequentialminus": [
            [
             0,
             "#0d0887"
            ],
            [
             0.1111111111111111,
             "#46039f"
            ],
            [
             0.2222222222222222,
             "#7201a8"
            ],
            [
             0.3333333333333333,
             "#9c179e"
            ],
            [
             0.4444444444444444,
             "#bd3786"
            ],
            [
             0.5555555555555556,
             "#d8576b"
            ],
            [
             0.6666666666666666,
             "#ed7953"
            ],
            [
             0.7777777777777778,
             "#fb9f3a"
            ],
            [
             0.8888888888888888,
             "#fdca26"
            ],
            [
             1,
             "#f0f921"
            ]
           ]
          },
          "colorway": [
           "#636efa",
           "#EF553B",
           "#00cc96",
           "#ab63fa",
           "#FFA15A",
           "#19d3f3",
           "#FF6692",
           "#B6E880",
           "#FF97FF",
           "#FECB52"
          ],
          "font": {
           "color": "#2a3f5f"
          },
          "geo": {
           "bgcolor": "white",
           "lakecolor": "white",
           "landcolor": "#E5ECF6",
           "showlakes": true,
           "showland": true,
           "subunitcolor": "white"
          },
          "hoverlabel": {
           "align": "left"
          },
          "hovermode": "closest",
          "mapbox": {
           "style": "light"
          },
          "paper_bgcolor": "white",
          "plot_bgcolor": "#E5ECF6",
          "polar": {
           "angularaxis": {
            "gridcolor": "white",
            "linecolor": "white",
            "ticks": ""
           },
           "bgcolor": "#E5ECF6",
           "radialaxis": {
            "gridcolor": "white",
            "linecolor": "white",
            "ticks": ""
           }
          },
          "scene": {
           "xaxis": {
            "backgroundcolor": "#E5ECF6",
            "gridcolor": "white",
            "gridwidth": 2,
            "linecolor": "white",
            "showbackground": true,
            "ticks": "",
            "zerolinecolor": "white"
           },
           "yaxis": {
            "backgroundcolor": "#E5ECF6",
            "gridcolor": "white",
            "gridwidth": 2,
            "linecolor": "white",
            "showbackground": true,
            "ticks": "",
            "zerolinecolor": "white"
           },
           "zaxis": {
            "backgroundcolor": "#E5ECF6",
            "gridcolor": "white",
            "gridwidth": 2,
            "linecolor": "white",
            "showbackground": true,
            "ticks": "",
            "zerolinecolor": "white"
           }
          },
          "shapedefaults": {
           "line": {
            "color": "#2a3f5f"
           }
          },
          "ternary": {
           "aaxis": {
            "gridcolor": "white",
            "linecolor": "white",
            "ticks": ""
           },
           "baxis": {
            "gridcolor": "white",
            "linecolor": "white",
            "ticks": ""
           },
           "bgcolor": "#E5ECF6",
           "caxis": {
            "gridcolor": "white",
            "linecolor": "white",
            "ticks": ""
           }
          },
          "title": {
           "x": 0.05
          },
          "xaxis": {
           "automargin": true,
           "gridcolor": "white",
           "linecolor": "white",
           "ticks": "",
           "title": {
            "standoff": 15
           },
           "zerolinecolor": "white",
           "zerolinewidth": 2
          },
          "yaxis": {
           "automargin": true,
           "gridcolor": "white",
           "linecolor": "white",
           "ticks": "",
           "title": {
            "standoff": 15
           },
           "zerolinecolor": "white",
           "zerolinewidth": 2
          }
         }
        },
        "title": {
         "font": {
          "size": 64
         },
         "text": "LPIPS",
         "x": 0.5,
         "xanchor": "center"
        },
        "xaxis": {
         "anchor": "y",
         "domain": [
          0,
          0.94
         ]
        },
        "yaxis": {
         "anchor": "x",
         "domain": [
          0,
          1
         ],
         "title": {
          "text": "Значение меры"
         },
         "type": "log"
        },
        "yaxis2": {
         "anchor": "x",
         "overlaying": "y",
         "side": "right",
         "title": {
          "text": "Значение меры"
         },
         "type": "log"
        }
       }
      }
     },
     "metadata": {},
     "output_type": "display_data"
    },
    {
     "name": "stdout",
     "output_type": "stream",
     "text": [
      "Среднеквадратичное отклонение для базовой модели 0.015  - для полного среднего,  0.015  - для наилучшего сгенерированного\n",
      "Среднеквадратичное отклонение для дообученной модели 0.015  - для полного среднего,  0.014  - для наилучшего сгенерированного\n",
      "Прирост качества модели: 19.8 $\\%$ - для полного среднего,  18.2 $\\%$ - для наилучшего сгенерированного\n"
     ]
    }
   ],
   "source": [
    "fig = make_subplots(specs=[[{\"secondary_y\": True}]])\n",
    "\n",
    "fig.add_trace(\n",
    "    go.Bar(\n",
    "        x=['полное среднее', 'наилучшее сгенерированное'],\n",
    "        y=[df['LPIPS baseline mean'].mean(), df['LPIPS baseline max'].mean()],\n",
    "        name='BAT-Fill',\n",
    "        text=[round(val, 3) for val in [df['LPIPS baseline mean'].mean(), df['LPIPS baseline max'].mean()]],\n",
    "        textposition='auto',\n",
    "        marker_color='orange'\n",
    "        ),\n",
    "    secondary_y=False\n",
    ")\n",
    "\n",
    "fig.add_trace(\n",
    "    go.Bar(\n",
    "        x=['полное среднее', 'наилучшее сгенерированное'],\n",
    "        y=[df['LPIPS trained model mean'].mean(), df['LPIPS trained model max'].mean()],\n",
    "        name='masked VAE-BAT-Fill',\n",
    "        text=[round(val, 3) for val in [df['LPIPS trained model mean'].mean(), df['LPIPS trained model max'].mean()]],\n",
    "        textposition='auto',\n",
    "        marker_color='rgb(69,0,102)'\n",
    "        ),\n",
    "    secondary_y=False\n",
    ")\n",
    "\n",
    "fig.update_layout(\n",
    "        title={\n",
    "            'text': \"LPIPS\",\n",
    "            'x': 0.5,\n",
    "            'xanchor': 'center',\n",
    "            'font': {'size': 64}},\n",
    "        legend={\n",
    "            'x': 0.75,\n",
    "            'y': 1.5,\n",
    "            'font': {'size': 32}},\n",
    "        font=dict(\n",
    "            family=\"Courier New, monospace\",\n",
    "            size=32\n",
    "        )\n",
    "        )\n",
    "# fig.update_xaxes(title='Усреднение меры на 4 изображениях', showticklabels=False, tickfont=dict(size=32))\n",
    "fig.update_yaxes(title='Значение меры', type='log')\n",
    "fig.show()\n",
    "\n",
    "print('Среднеквадратичное отклонение для базовой модели', round(np.std(df['LPIPS baseline mean']), 3),' - для полного среднего, ', round(np.std(df['LPIPS baseline max']), 3), ' - для наилучшего сгенерированного')\n",
    "print('Среднеквадратичное отклонение для дообученной модели', round(np.std(df['LPIPS trained model mean']), 3),' - для полного среднего, ', round(np.std(df['LPIPS trained model max']), 3), ' - для наилучшего сгенерированного')\n",
    "print('Прирост качества модели:', round((df['LPIPS baseline mean'].mean() - df['LPIPS trained model mean'].mean())/df['LPIPS baseline mean'].mean(), 3)*100,'$\\%$ - для полного среднего, ' ,\n",
    "       round((df['LPIPS baseline max'].mean() - df['LPIPS trained model max'].mean())/df['LPIPS baseline max'].mean(), 3)*100, '$\\%$ - для наилучшего сгенерированного')"
   ]
  },
  {
   "attachments": {},
   "cell_type": "markdown",
   "metadata": {},
   "source": [
    "Старое"
   ]
  },
  {
   "cell_type": "code",
   "execution_count": null,
   "metadata": {},
   "outputs": [],
   "source": [
    "df = pd.DataFrame({'PSNR baseline mean': pd.Series([round(x[0], 3) for x in baseline_mean_metrics]).rolling(window=4).mean()[3::4],\n",
    "                    'PSNR trained model mean': pd.Series([x[0] for x in trained_mean_metrics]).rolling(window=4).mean()[3::4],\n",
    "                    'PSNR baseline max': pd.Series([x[0] for x in baseline_minimax_metrics]).rolling(window=4).max()[3::4],\n",
    "                    'PSNR trained model max': pd.Series([x[0] for x in trained_minimax_metrics]).rolling(window=4).max()[3::4],\n",
    "                    'SSIM baseline mean': pd.Series([round(x[1], 3) for x in baseline_mean_metrics]).rolling(window=4).mean()[3::4],\n",
    "                    'SSIM trained model mean': pd.Series([x[1] for x in trained_mean_metrics]).rolling(window=4).mean()[3::4],\n",
    "                    'SSIM baseline max': pd.Series([x[1] for x in baseline_minimax_metrics]).rolling(window=4).max()[3::4],\n",
    "                    'SSIM trained model max': pd.Series([x[1] for x in trained_minimax_metrics]).rolling(window=4).max()[3::4],\n",
    "                    'LPIPS baseline mean': pd.Series([round(x[2], 3) for x in baseline_mean_metrics]).rolling(window=4).mean()[3::4],\n",
    "                    'LPIPS trained model mean': pd.Series([x[2] for x in trained_mean_metrics]).rolling(window=4).mean()[3::4],\n",
    "                    'LPIPS baseline max': pd.Series([x[2] for x in baseline_minimax_metrics]).rolling(window=4).min()[3::4],\n",
    "                    'LPIPS trained model max': pd.Series([x[2] for x in trained_minimax_metrics]).rolling(window=4).min()[3::4]\n",
    "                    }).reset_index(drop=True).reset_index().rename(columns={'index': 'num'})"
   ]
  }
 ],
 "metadata": {
  "kernelspec": {
   "display_name": "dev",
   "language": "python",
   "name": "python3"
  },
  "language_info": {
   "codemirror_mode": {
    "name": "ipython",
    "version": 3
   },
   "file_extension": ".py",
   "mimetype": "text/x-python",
   "name": "python",
   "nbconvert_exporter": "python",
   "pygments_lexer": "ipython3",
   "version": "3.10.9"
  },
  "orig_nbformat": 4
 },
 "nbformat": 4,
 "nbformat_minor": 2
}
