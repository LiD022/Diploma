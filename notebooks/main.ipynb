{
 "cells": [
  {
   "attachments": {},
   "cell_type": "markdown",
   "metadata": {},
   "source": [
    "Делаем масочки"
   ]
  },
  {
   "cell_type": "code",
   "execution_count": 1,
   "metadata": {},
   "outputs": [],
   "source": [
    "import torch\n",
    "torch.cuda.empty_cache()"
   ]
  },
  {
   "cell_type": "code",
   "execution_count": 49,
   "metadata": {},
   "outputs": [],
   "source": [
    "import cv2\n",
    "import numpy as np\n",
    "\n",
    "\n",
    "# Загрузить изображение\n",
    "img = np.zeros((1024, 1024), np.uint8)\n",
    "\n",
    "color = 255\n",
    "thickness = -1\n",
    "\n",
    "for i in range(6):\n",
    "    for _ in range(np.random.randint(1, 3)):\n",
    "        center_coordinates = np.random.randint(200, 700, size= 2)\n",
    "        radius = np.random.randint(75, 150)\n",
    "        cv2.circle(img, center_coordinates, radius, color, thickness)\n",
    "\n",
    "    for _ in range(np.random.randint(1, 3)):\n",
    "        start_point = np.random.randint(200, 700, size= 2)\n",
    "        end_point = start_point + np.random.randint(75, 150, size= 2)\n",
    "        cv2.rectangle(img, start_point, end_point, color, thickness)\n",
    "\n",
    "    cv2.imwrite(f'{i}.png', img)"
   ]
  },
  {
   "cell_type": "code",
   "execution_count": 2,
   "metadata": {},
   "outputs": [],
   "source": [
    "import cv2\n",
    "import numpy as np\n",
    "\n",
    "\n",
    "# Загрузить изображение\n",
    "img = np.zeros((1024, 1024), np.uint8)\n",
    "\n",
    "color = 255\n",
    "thickness = -1\n",
    "\n",
    "for i in range(6):\n",
    "    for _ in range(np.random.randint(1, 4)):\n",
    "        center_coordinates = np.random.randint(150, 850, size= 2)\n",
    "        radius = np.random.randint(75, 200)\n",
    "        cv2.circle(img, center_coordinates, radius, color, thickness)\n",
    "\n",
    "    cv2.imwrite(f'{i}.png', img)"
   ]
  },
  {
   "attachments": {},
   "cell_type": "markdown",
   "metadata": {},
   "source": [
    "Считаем метрики"
   ]
  },
  {
   "cell_type": "code",
   "execution_count": 12,
   "metadata": {},
   "outputs": [],
   "source": [
    "import torch\n",
    "from PIL import Image\n",
    "from ignite.metrics import FID\n",
    "import numpy as np\n",
    "import warnings\n",
    "warnings.filterwarnings(\"ignore\")"
   ]
  },
  {
   "cell_type": "code",
   "execution_count": 43,
   "metadata": {},
   "outputs": [
    {
     "name": "stdout",
     "output_type": "stream",
     "text": [
      "Image #0:\n",
      "Generated Image #0 FID Score: 0.0019435275930270693\n",
      "Generated Image #1 FID Score: 1.3074443075075777e-05\n",
      "Generated Image #2 FID Score: 0.005438822347151669\n",
      "Generated Image #3 FID Score: 0.007676896317666965\n",
      "Generated Image #4 FID Score: 0.023756623445777756\n",
      "Generated Image #5 FID Score: 2.3817708539488944e-05\n",
      "\n",
      "\n",
      "Image #1:\n",
      "Generated Image #0 FID Score: 0.0012386791810667004\n",
      "Generated Image #1 FID Score: 0.0010873464897663363\n",
      "Generated Image #2 FID Score: 0.0003207116173282248\n",
      "Generated Image #3 FID Score: 0.06942557705211974\n",
      "Generated Image #4 FID Score: 0.0006049374488004939\n",
      "Generated Image #5 FID Score: 0.0013196842337717032\n",
      "\n",
      "\n",
      "Image #2:\n",
      "Generated Image #0 FID Score: 0.029658426324589086\n",
      "Generated Image #1 FID Score: 0.03787434561864844\n",
      "Generated Image #2 FID Score: 0.36858237456486476\n",
      "Generated Image #3 FID Score: 0.04830037998939201\n",
      "Generated Image #4 FID Score: 0.005193500400196176\n",
      "Generated Image #5 FID Score: 0.0012694964602265413\n",
      "\n",
      "\n",
      "Image #3:\n",
      "Generated Image #0 FID Score: 0.0012595582572576811\n",
      "Generated Image #1 FID Score: 0.0006174159397006067\n",
      "Generated Image #2 FID Score: 0.004132070484458132\n",
      "Generated Image #3 FID Score: 0.0013122293033491356\n",
      "Generated Image #4 FID Score: 0.00016319925574986426\n",
      "Generated Image #5 FID Score: 0.011282541773955159\n",
      "\n",
      "\n",
      "Image #4:\n",
      "Generated Image #0 FID Score: 0.1969991050896268\n",
      "Generated Image #1 FID Score: 1.086753246022424\n",
      "Generated Image #2 FID Score: 0.13240051193012153\n",
      "Generated Image #3 FID Score: 0.14996038872974446\n",
      "Generated Image #4 FID Score: 0.10856393256754238\n",
      "Generated Image #5 FID Score: 0.1922833938549859\n",
      "\n",
      "\n",
      "Image #5:\n",
      "Generated Image #0 FID Score: 0.0011797000102866445\n",
      "Generated Image #1 FID Score: 0.09275501142901485\n",
      "Generated Image #2 FID Score: 0.04657857386431495\n",
      "Generated Image #3 FID Score: 0.18794756880454705\n",
      "Generated Image #4 FID Score: 0.19962427261402493\n",
      "Generated Image #5 FID Score: 0.1464088956373552\n",
      "\n",
      "\n"
     ]
    }
   ],
   "source": [
    "for i in range(6):\n",
    "    print(f\"Image #{i}:\")\n",
    "    image1 = Image.open(f\"/home/nikita/Desktop/diploma/test_reshaped/{i}.png\").convert(\"RGB\")\n",
    "    tensor1 = torch.tensor(np.array(image1)).permute(2, 0, 1).unsqueeze(0).float()\n",
    "    for j in range(6):\n",
    "        image2 = Image.open(f\"/home/nikita/Desktop/diploma/inference/res/{i}_{j}.png\").convert(\"RGB\")\n",
    "        tensor2 = torch.tensor(np.array(image2)).permute(2, 0, 1).unsqueeze(0).float()\n",
    "\n",
    "        fid_metric = FID(device=torch.device(\"cpu\"))\n",
    "\n",
    "        # Обновите метрику с помощью реального изображения\n",
    "        fid_metric.update((tensor1, tensor1))\n",
    "\n",
    "        # Обновите метрику с помощью сгенерированного изображения\n",
    "        fid_metric.update((tensor2, tensor1))\n",
    "\n",
    "        # Вычислите FID-метрику\n",
    "        fid_score = fid_metric.compute()\n",
    "\n",
    "        print(f\"Generated Image #{j} FID Score:\", fid_score)\n",
    "    print(\"\\n\")"
   ]
  },
  {
   "cell_type": "code",
   "execution_count": 6,
   "metadata": {},
   "outputs": [
    {
     "data": {
      "text/plain": [
       "True"
      ]
     },
     "execution_count": 6,
     "metadata": {},
     "output_type": "execute_result"
    }
   ],
   "source": [
    "import cv2\n",
    "img = cv2.imread(\"/home/nikita/Desktop/diploma/inference/sample/sample1.png\")\n",
    "\n",
    "# resize the image to 1024x1024\n",
    "resized_img = cv2.resize(img, (1024, 1024))\n",
    "\n",
    "cv2.imwrite('/home/nikita/Desktop/diploma/inference/sample/sample.png', resized_img)"
   ]
  },
  {
   "attachments": {},
   "cell_type": "markdown",
   "metadata": {},
   "source": [
    "просто кружочек"
   ]
  },
  {
   "cell_type": "code",
   "execution_count": 8,
   "metadata": {},
   "outputs": [
    {
     "data": {
      "text/plain": [
       "True"
      ]
     },
     "execution_count": 8,
     "metadata": {},
     "output_type": "execute_result"
    }
   ],
   "source": [
    "import numpy as np\n",
    "import cv2\n",
    "\n",
    "# Загрузить изображение\n",
    "img = np.zeros((1024, 1024), np.uint8)\n",
    "\n",
    "color = 255\n",
    "thickness = -1\n",
    "\n",
    "\n",
    "center_coordinates = (512, 512)\n",
    "radius = 50\n",
    "cv2.circle(img, center_coordinates, radius, color, thickness)\n",
    "\n",
    "\n",
    "cv2.imwrite('/home/nikita/Desktop/diploma/inference/sample_mask/sample.png', img)"
   ]
  },
  {
   "attachments": {},
   "cell_type": "markdown",
   "metadata": {},
   "source": [
    "YOLO + SAM"
   ]
  },
  {
   "cell_type": "code",
   "execution_count": null,
   "metadata": {},
   "outputs": [],
   "source": []
  }
 ],
 "metadata": {
  "kernelspec": {
   "display_name": "dev",
   "language": "python",
   "name": "python3"
  },
  "language_info": {
   "codemirror_mode": {
    "name": "ipython",
    "version": 3
   },
   "file_extension": ".py",
   "mimetype": "text/x-python",
   "name": "python",
   "nbconvert_exporter": "python",
   "pygments_lexer": "ipython3",
   "version": "3.10.9"
  },
  "orig_nbformat": 4
 },
 "nbformat": 4,
 "nbformat_minor": 2
}
