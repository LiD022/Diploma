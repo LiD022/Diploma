{
 "cells": [
  {
   "cell_type": "code",
   "execution_count": 37,
   "metadata": {},
   "outputs": [],
   "source": [
    "from ultralytics import YOLO\n",
    "import cv2\n",
    "import supervision as sv\n",
    "import numpy as np\n",
    "import torch\n",
    "import math\n",
    "from PIL import Image\n",
    "from segment_anything import SamAutomaticMaskGenerator, SamPredictor, sam_model_registry\n",
    "from skimage import metrics\n",
    "import torchvision.transforms as transforms\n",
    "import lpips\n",
    "# import subprocess\n",
    "import warnings\n",
    "warnings.filterwarnings(\"ignore\", category=DeprecationWarning)"
   ]
  },
  {
   "cell_type": "code",
   "execution_count": 2,
   "metadata": {},
   "outputs": [],
   "source": [
    "device = torch.device(\"cuda:0\" if torch.cuda.is_available() else \"cpu\")"
   ]
  },
  {
   "cell_type": "code",
   "execution_count": 3,
   "metadata": {},
   "outputs": [],
   "source": [
    "model = YOLO('/home/nikita/Desktop/diploma/Diploma/models/yolov8n-face.pt')  # load a pretrained YOLOv8n detection model\n",
    "#model.train(data='coco128.yaml', epochs=3)  # train the model\n",
    "#model('https://ultralytics.com/images/bus.jpg')  # predict on an image"
   ]
  },
  {
   "cell_type": "code",
   "execution_count": 4,
   "metadata": {},
   "outputs": [],
   "source": [
    "sam = sam_model_registry[\"vit_l\"](checkpoint=\"/home/nikita/Desktop/diploma/Diploma/models/sam_vit_l_0b3195.pth\").to(device=device)\n",
    "#predictor = SamPredictor(sam)\n",
    "mask_generator = SamAutomaticMaskGenerator(sam)\n",
    "mask_annotator = sv.MaskAnnotator()"
   ]
  },
  {
   "cell_type": "code",
   "execution_count": 168,
   "metadata": {},
   "outputs": [],
   "source": [
    "image = Image.open('/home/nikita/Desktop/diploma/inference/sample/s2.jpg')"
   ]
  },
  {
   "cell_type": "code",
   "execution_count": 169,
   "metadata": {},
   "outputs": [
    {
     "name": "stderr",
     "output_type": "stream",
     "text": [
      "WARNING ⚠️ 'hide_conf' is deprecated and will be removed in 'ultralytics 8.2' in the future. Please use 'show_conf' instead.\n",
      "WARNING ⚠️ 'hide_labels' is deprecated and will be removed in 'ultralytics 8.2' in the future. Please use 'show_labels' instead.\n",
      "\n",
      "0: 1280x1280 1 face, 10.2ms\n",
      "Speed: 10.2ms preprocess, 10.2ms inference, 1.5ms postprocess per image at shape (1, 3, 1280, 1280)\n"
     ]
    }
   ],
   "source": [
    "model.task='detect'\n",
    "results = model.predict(image, imgsz=image.size,\n",
    "                        save=False,\n",
    "                        device=device,\n",
    "                        hide_conf=True, hide_labels=True, conf=0.25, line_width=1)"
   ]
  },
  {
   "cell_type": "code",
   "execution_count": 170,
   "metadata": {},
   "outputs": [],
   "source": [
    "arr_of_boxes=[]\n",
    "boxes = results[0].boxes\n",
    "n=boxes.shape[0]\n",
    "\n",
    "\n",
    "for i in range(n):\n",
    "    #     # вот тут надо понять как все же картинку центрировать\n",
    "    # arr[0] *= 0.95  # сдвиг влево\n",
    "    # arr[2] *= 0.95\n",
    "    arr=boxes.xyxy[i].cpu().numpy()\n",
    "    \n",
    "    if arr[2]-arr[0] > arr[3]-arr[1]:\n",
    "        arr[3]=math.ceil(arr[1]+(arr[2]-arr[0]))\n",
    "    else:\n",
    "        arr[2]=math.ceil(arr[0]+(arr[3]-arr[1]))\n",
    "\n",
    "    # arr[:2] *= 0.9\n",
    "    # arr[-2:] *= 1.1\n",
    "    \n",
    "    arr[0]-=(arr[2]-arr[0])*0.3\n",
    "    # arr[2]+=(arr[2]-arr[0])*0.1\n",
    "    arr[1]-=(arr[3]-arr[1])*0.15\n",
    "    arr[3]+=(arr[3]-arr[1])*0.15\n",
    "\n",
    "    arr_of_boxes.append(arr)"
   ]
  },
  {
   "cell_type": "code",
   "execution_count": 171,
   "metadata": {},
   "outputs": [
    {
     "data": {
      "text/plain": [
       "1"
      ]
     },
     "execution_count": 171,
     "metadata": {},
     "output_type": "execute_result"
    }
   ],
   "source": [
    "arr_of_box_images=[]\n",
    "for i in range(n):\n",
    "    im=image.crop(arr_of_boxes[i])\n",
    "    x=min(im.size)\n",
    "    cropped_image = cv2.cvtColor(np.array(im.resize((x, x))), cv2.COLOR_BGR2RGB)\n",
    "    arr_of_box_images.append(cropped_image)\n",
    "    # cropped_image.save(f'/home/nikita/Desktop/diploma/inference/sample/sample_{i}.png')\n",
    "\n",
    "len(arr_of_box_images)"
   ]
  },
  {
   "cell_type": "code",
   "execution_count": null,
   "metadata": {},
   "outputs": [],
   "source": [
    "cv2.imshow('im', arr_of_box_images[0])\n",
    "\n",
    "cv2.waitKey(0)\n",
    "\n",
    "# Close all windows\n",
    "cv2.destroyAllWindows()"
   ]
  },
  {
   "cell_type": "code",
   "execution_count": 173,
   "metadata": {},
   "outputs": [
    {
     "data": {
      "text/plain": [
       "True"
      ]
     },
     "execution_count": 173,
     "metadata": {},
     "output_type": "execute_result"
    }
   ],
   "source": [
    "cv2.imwrite('/home/nikita/Desktop/diploma/inference/res/sample_0_origin.png', arr_of_box_images[0])"
   ]
  },
  {
   "cell_type": "code",
   "execution_count": 143,
   "metadata": {},
   "outputs": [
    {
     "data": {
      "image/png": "[encoded data removed]",
      "text/plain": [
       "<Figure size 1600x1600 with 7 Axes>"
      ]
     },
     "metadata": {},
     "output_type": "display_data"
    },
    {
     "name": "stdout",
     "output_type": "stream",
     "text": [
      "Выберите часть изображения, которую хотите исправить:\n"
     ]
    },
    {
     "data": {
      "image/png": "[encoded data removed]",
      "text/plain": [
       "<Figure size 1600x1600 with 7 Axes>"
      ]
     },
     "metadata": {},
     "output_type": "display_data"
    },
    {
     "name": "stdout",
     "output_type": "stream",
     "text": [
      "Выберите часть изображения, которую хотите исправить:\n"
     ]
    },
    {
     "data": {
      "image/png": "[encoded data removed]",
      "text/plain": [
       "<Figure size 1600x1600 with 7 Axes>"
      ]
     },
     "metadata": {},
     "output_type": "display_data"
    },
    {
     "name": "stdout",
     "output_type": "stream",
     "text": [
      "Выберите часть изображения, которую хотите исправить:\n"
     ]
    }
   ],
   "source": [
    "for i in range(n):\n",
    "    image_bgr = arr_of_box_images[i]\n",
    "    sam_result = mask_generator.generate(image_bgr)\n",
    "    #detections = sv.Detections.from_sam(sam_result=sam_result)\n",
    "    #annotated_image = mask_annotator.annotate(scene=image_bgr.copy(), detections=detections)\n",
    "    masks = [mask['segmentation'] for mask in sorted(sam_result, key=lambda x: x['area'], reverse=True)]\n",
    "    sv.plot_images_grid(\n",
    "    images=masks[:7],\n",
    "    grid_size=(1, 7),\n",
    "    size=(16, 16)\n",
    "    )\n",
    "    print('Выберите часть изображения, которую хотите исправить:')\n",
    "    j=int(input())\n",
    "    _, binary_mask = cv2.threshold(np.uint8(masks[j-1])*255, 127, 255, cv2.THRESH_BINARY)\n",
    "\n",
    "    cv2.imwrite(f'/home/nikita/Desktop/diploma/inference/image/sample_{i}.png', image_bgr)\n",
    "    cv2.imwrite(f'/home/nikita/Desktop/diploma/inference/mask/sample_{i}.png', binary_mask)\n",
    "    "
   ]
  },
  {
   "cell_type": "code",
   "execution_count": 39,
   "metadata": {},
   "outputs": [
    {
     "name": "stdout",
     "output_type": "stream",
     "text": [
      "Setting up [LPIPS] perceptual loss: trunk [alex], v[0.1], spatial [off]\n",
      "Loading model from: /home/nikita/miniconda3/envs/dev/lib/python3.10/site-packages/lpips/weights/v0.1/alex.pth\n",
      "Sample #0:\n",
      "Generated Image #0:\n",
      "PSNR: 17.24801010688227\n",
      "SSIM: 0.5274949440293354\n",
      "LPIPS: 0.22676637768745422\n",
      "Generated Image #1:\n",
      "PSNR: 17.669005398478443\n",
      "SSIM: 0.5347224030872888\n",
      "LPIPS: 0.21982474625110626\n",
      "Generated Image #2:\n",
      "PSNR: 17.41728833276791\n",
      "SSIM: 0.530919277778955\n",
      "LPIPS: 0.21942806243896484\n",
      "\n",
      "\n",
      "Sample #1:\n",
      "Generated Image #0:\n",
      "PSNR: 15.05793262379038\n",
      "SSIM: 0.5462742297007807\n",
      "LPIPS: 0.25121161341667175\n",
      "Generated Image #1:\n",
      "PSNR: 14.727080988744135\n",
      "SSIM: 0.5477063917092899\n",
      "LPIPS: 0.25501903891563416\n",
      "Generated Image #2:\n",
      "PSNR: 15.136077437359653\n",
      "SSIM: 0.5592157402546682\n",
      "LPIPS: 0.25111687183380127\n",
      "\n",
      "\n",
      "Sample #2:\n",
      "Generated Image #0:\n",
      "PSNR: 16.784716127735923\n",
      "SSIM: 0.5207893191586619\n",
      "LPIPS: 0.17269007861614227\n",
      "Generated Image #1:\n",
      "PSNR: 16.461658688635875\n",
      "SSIM: 0.4962452148308507\n",
      "LPIPS: 0.18395563960075378\n",
      "Generated Image #2:\n",
      "PSNR: 16.558550392838832\n",
      "SSIM: 0.503909312159689\n",
      "LPIPS: 0.17893174290657043\n",
      "\n",
      "\n"
     ]
    }
   ],
   "source": [
    "loss_fn = lpips.LPIPS(net='alex')\n",
    "\n",
    "for i in range(3):\n",
    "    print(f\"Sample #{i}:\")\n",
    "    img1=cv2.imread(f'/home/nikita/Desktop/diploma/norm/image/sample_{i}_origin.png')\n",
    "    img1 = cv2.resize(img1, (256, 256))\n",
    "    img1_ten = transforms.ToTensor()(img1)\n",
    "    for j in range(3):\n",
    "        img2=cv2.imread(f'/home/nikita/Desktop/diploma/norm/res/sample_{i}_{j}.png')\n",
    "        print(f\"Generated Image #{j}:\")\n",
    "        print(\"PSNR:\", cv2.PSNR(img1, img2))\n",
    "        print(\"SSIM:\", metrics.structural_similarity(img1, img2, multichannel=True, channel_axis=2))\n",
    "        print(\"LPIPS:\", loss_fn(img1_ten, transforms.ToTensor()(img2)).item())\n",
    "    print(\"\\n\")\n"
   ]
  },
  {
   "cell_type": "code",
   "execution_count": 25,
   "metadata": {},
   "outputs": [],
   "source": [
    "img1=cv2.imread('/home/nikita/Desktop/diploma/norm/image/sample_0_origin.png')\n",
    "img1 = cv2.resize(img1, (256, 256))\n",
    "img2=cv2.imread('/home/nikita/Desktop/diploma/norm/res/sample_0_0.png')\n"
   ]
  },
  {
   "cell_type": "code",
   "execution_count": null,
   "metadata": {},
   "outputs": [],
   "source": [
    "(score, diff) = metrics.structural_similarity(img1, img2, multichannel=True, channel_axis=2)\n",
    "print(\"SSIM\", score)"
   ]
  },
  {
   "cell_type": "code",
   "execution_count": 35,
   "metadata": {},
   "outputs": [
    {
     "name": "stdout",
     "output_type": "stream",
     "text": [
      "SSIM: 0.5274949440293354\n"
     ]
    }
   ],
   "source": [
    "from skimage import metrics\n",
    "\n",
    "ssim = metrics.structural_similarity(img1, img2, multichannel=True, channel_axis=2)\n",
    "\n",
    "print(\"SSIM:\", metrics.structural_similarity(img1, img2, multichannel=True, channel_axis=2))"
   ]
  }
 ],
 "metadata": {
  "kernelspec": {
   "display_name": "dev",
   "language": "python",
   "name": "python3"
  },
  "language_info": {
   "codemirror_mode": {
    "name": "ipython",
    "version": 3
   },
   "file_extension": ".py",
   "mimetype": "text/x-python",
   "name": "python",
   "nbconvert_exporter": "python",
   "pygments_lexer": "ipython3",
   "version": "3.10.9"
  },
  "orig_nbformat": 4
 },
 "nbformat": 4,
 "nbformat_minor": 2
}
