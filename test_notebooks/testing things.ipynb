{
 "cells": [
  {
   "cell_type": "code",
   "execution_count": 2,
   "metadata": {},
   "outputs": [],
   "source": [
    "import numpy as np\n",
    "import random\n",
    "import cv2\n"
   ]
  },
  {
   "cell_type": "code",
   "execution_count": null,
   "metadata": {},
   "outputs": [],
   "source": []
  },
  {
   "cell_type": "code",
   "execution_count": 4,
   "metadata": {},
   "outputs": [],
   "source": [
    "h, w = 1024, 1024"
   ]
  },
  {
   "cell_type": "code",
   "execution_count": null,
   "metadata": {},
   "outputs": [],
   "source": [
    "m = np.zeros((h, w)).astype(np.uint8)\n",
    "\n",
    "\n",
    "if np.random.binomial(1, 0.3) == 1:\n",
    "    t, l = random.randint(3*h//8, 3.5*h//8), random.randint(1.5*w//8, 2*w//8)\n",
    "    m[t:t+h//2, l:l+w//2] = 255\n",
    "else:\n",
    "    for _ in range(10):\n",
    "        t1, l1 = random.randint(3.5*h//8, 4.5*h//8), random.randint(2*w//8, 3*w//8)\n",
    "        t2, l2 = random.randint(6*h//8,  7*h//8), random.randint(6*w//8, 7*w//8)\n",
    "        m[t1:t2, l1:l2] = 255\n",
    "\n",
    "cv2.imshow('Masked Image', m)\n",
    "cv2.waitKey(0)\n",
    "cv2.destroyAllWindows()"
   ]
  },
  {
   "cell_type": "code",
   "execution_count": 2,
   "metadata": {},
   "outputs": [],
   "source": [
    "import torch\n",
    "torch.cuda.empty_cache()"
   ]
  },
  {
   "cell_type": "code",
   "execution_count": null,
   "metadata": {},
   "outputs": [],
   "source": [
    "import plotly.graph_objects as go\n",
    "\n",
    "# Create four traces with two columns each\n",
    "trace1 = go.Histogram(x=[1, 2, 3, 4, 5], name='Trace 1')\n",
    "trace2 = go.Histogram(x=[2, 3, 4, 5, 6], name='Trace 2')\n",
    "trace3 = go.Histogram(x=[3, 4, 5, 6, 7], name='Trace 3')\n",
    "trace4 = go.Histogram(x=[4, 5, 6, 7, 8], name='Trace 4')\n",
    "\n",
    "# Create a figure with the four traces\n",
    "fig = go.Figure(data=[trace1, trace2, trace3, trace4])\n",
    "\n",
    "# Update the layout of the figure\n",
    "fig.update_layout(barmode='group')\n",
    "\n",
    "# Show the figure\n",
    "fig.show()"
   ]
  }
 ],
 "metadata": {
  "kernelspec": {
   "display_name": "dev",
   "language": "python",
   "name": "python3"
  },
  "language_info": {
   "codemirror_mode": {
    "name": "ipython",
    "version": 3
   },
   "file_extension": ".py",
   "mimetype": "text/x-python",
   "name": "python",
   "nbconvert_exporter": "python",
   "pygments_lexer": "ipython3",
   "version": "3.10.9"
  },
  "orig_nbformat": 4
 },
 "nbformat": 4,
 "nbformat_minor": 2
}
